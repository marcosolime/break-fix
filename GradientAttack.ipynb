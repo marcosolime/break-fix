{
 "cells": [
  {
   "cell_type": "code",
   "id": "initial_id",
   "metadata": {
    "collapsed": true,
    "ExecuteTime": {
     "end_time": "2024-08-28T08:45:01.246769Z",
     "start_time": "2024-08-28T08:44:57.885177Z"
    }
   },
   "source": [
    "import torch\n",
    "from torch.optim import Optimizer\n",
    "from torchvision import models, datasets, transforms\n",
    "from torch.utils.data import DataLoader\n",
    "import torch.nn as nn\n",
    "import torch.optim as optim\n",
    "import utils_a\n",
    "import numpy as np\n",
    "import matplotlib.pyplot as plt\n",
    "import torch.optim.lr_scheduler as lr_scheduler\n",
    "from sklearn.metrics import classification_report\n",
    "\n",
    "utils_a.set_seed(42)\n",
    "device = utils_a.set_device()"
   ],
   "outputs": [
    {
     "name": "stdout",
     "output_type": "stream",
     "text": [
      "Using mps device.\n"
     ]
    }
   ],
   "execution_count": 1
  },
  {
   "metadata": {
    "ExecuteTime": {
     "end_time": "2024-08-28T08:45:01.300747Z",
     "start_time": "2024-08-28T08:45:01.248276Z"
    }
   },
   "cell_type": "code",
   "source": [
    "dataset_folder = \"mri_brain_tumor\"\n",
    "#mean, std = utils_a.compute_mean_std(train_loader)\n",
    "mean, std = torch.tensor([0.1855] * 3), torch.tensor([0.1813] * 3)  # precomputed, to save time\n",
    "\n",
    "print(f\"Mean: {mean}\")\n",
    "print(f\"Std: {std}\")\n",
    "train_transform = transforms.Compose([\n",
    "    transforms.RandomHorizontalFlip(p=0.5),  # Flip orizzontale\n",
    "    transforms.RandomVerticalFlip(p=0.5),  # Flip verticale\n",
    "    transforms.RandomRotation(degrees=15),  # Rotazione casuale di 15 gradi\n",
    "    transforms.ColorJitter(brightness=0.2, contrast=0.2, saturation=0.2, hue=0.1),  # Variazione casuale dei colori\n",
    "    transforms.RandomResizedCrop(size=224, scale=(0.8, 1.0)),  # Crop e ridimensionamento casuale\n",
    "    transforms.ToTensor(),  # Converti in tensore\n",
    "    transforms.RandomErasing(p=0.5, scale=(0.02, 0.2), ratio=(0.3, 3.3)),  # Erasing casuale\n",
    "    transforms.Normalize(mean=mean, std=std)  # Normalizzazione\n",
    "])\n",
    "\n",
    "# Transformation for testing dataset without data augmentation\n",
    "test_transform = transforms.Compose([\n",
    "    transforms.Resize((224, 224)),  # Resize the image to 224x224\n",
    "    transforms.ToTensor(),  # Convert the image to a tensor\n",
    "    transforms.Normalize(mean=mean, std=std)  # Normalize the image\n",
    "])\n",
    "\n",
    "# Apply the transformations to the datasets\n",
    "train_dataset = datasets.ImageFolder(root=f'{dataset_folder}/Training', transform=train_transform)\n",
    "test_dataset = datasets.ImageFolder(root=f'{dataset_folder}/Testing', transform=test_transform)\n",
    "\n",
    "train_loader = DataLoader(train_dataset, batch_size=8, shuffle=True, num_workers=1)\n",
    "test_loader = DataLoader(test_dataset, batch_size=8, shuffle=True, num_workers=1)"
   ],
   "id": "511724dc7cafe137",
   "outputs": [
    {
     "name": "stdout",
     "output_type": "stream",
     "text": [
      "Mean: tensor([0.1855, 0.1855, 0.1855])\n",
      "Std: tensor([0.1813, 0.1813, 0.1813])\n"
     ]
    }
   ],
   "execution_count": 2
  },
  {
   "metadata": {
    "ExecuteTime": {
     "end_time": "2024-08-28T08:45:01.303873Z",
     "start_time": "2024-08-28T08:45:01.301765Z"
    }
   },
   "cell_type": "code",
   "source": "num_epochs = 5",
   "id": "5030255c897110db",
   "outputs": [],
   "execution_count": 3
  },
  {
   "metadata": {},
   "cell_type": "markdown",
   "source": "#### ATTACK 5: manipulating the gradient direction",
   "id": "d9042f0f94efcb7"
  },
  {
   "metadata": {
    "ExecuteTime": {
     "end_time": "2024-08-28T08:45:01.312529Z",
     "start_time": "2024-08-28T08:45:01.305881Z"
    }
   },
   "cell_type": "code",
   "source": [
    "class DrunkOptimizer(Optimizer):\n",
    "    def __init__(self, params, base_optimizer, scale_strength=0.7, perturb_strength=0.7, attack_type='combined', target_layers=None):\n",
    "        defaults = dict(lr=0.001, weight_decay=0.9)\n",
    "        super(DrunkOptimizer, self).__init__(params, defaults)\n",
    "        self.base_optimizer = base_optimizer\n",
    "        self.scale_strength = scale_strength\n",
    "        self.perturb_strength = perturb_strength\n",
    "        self.attack_type = attack_type\n",
    "        self.target_layers = target_layers\n",
    "        self.optimizer = base_optimizer\n",
    "\n",
    "    def step(self, closure=None):\n",
    "        for group in self.optimizer.param_groups:\n",
    "            for param in group['params']:\n",
    "                if param.grad is not None:\n",
    "                    self.attack_gradients(param)\n",
    "        self.optimizer.step(closure)\n",
    "    \n",
    "    def attack_gradients(self, param):\n",
    "        if self.target_layers is None or any(name in param.name for name in self.target_layers):\n",
    "            if self.attack_type == 'scale':\n",
    "                param.grad.data *= (1 - self.scale_strength)\n",
    "            elif self.attack_type == 'perturb':\n",
    "                noise = torch.randn_like(param.grad.data) * self.perturb_strength\n",
    "                param.grad.data += noise\n",
    "            elif self.attack_type == 'combined':\n",
    "                param.grad.data *= (1 - self.scale_strength)\n",
    "                noise = torch.randn_like(param.grad.data) * self.perturb_strength\n",
    "                param.grad.data += noise\n",
    "                \n",
    "    def zero_grad(self):\n",
    "        self.base_optimizer.zero_grad()"
   ],
   "id": "916e42bb7ee25b4e",
   "outputs": [],
   "execution_count": 4
  },
  {
   "metadata": {
    "ExecuteTime": {
     "end_time": "2024-08-28T08:45:01.315304Z",
     "start_time": "2024-08-28T08:45:01.313569Z"
    }
   },
   "cell_type": "code",
   "source": "",
   "id": "1fb6c8f0571f5739",
   "outputs": [],
   "execution_count": 4
  },
  {
   "metadata": {},
   "cell_type": "markdown",
   "source": "### DIFESA",
   "id": "7559d55697236875"
  },
  {
   "metadata": {
    "ExecuteTime": {
     "end_time": "2024-08-28T08:45:01.318815Z",
     "start_time": "2024-08-28T08:45:01.316558Z"
    }
   },
   "cell_type": "code",
   "source": "",
   "id": "6e49e4468608dd3",
   "outputs": [],
   "execution_count": 4
  },
  {
   "metadata": {
    "ExecuteTime": {
     "end_time": "2024-08-28T08:45:01.326442Z",
     "start_time": "2024-08-28T08:45:01.319946Z"
    }
   },
   "cell_type": "code",
   "source": [
    "# Function to train and evaluate a model, returning accuracy data\n",
    "def train_and_evaluate(model, optimizer, train_loader, test_loader, name, num_epochs=5, adv_training=False):\n",
    "    criterion = nn.CrossEntropyLoss()\n",
    "    scheduler = lr_scheduler.ReduceLROnPlateau(optimizer, mode='min', factor=0.1, patience=5, verbose=True)\n",
    "\n",
    "    train_accuracies = []\n",
    "\n",
    "    for epoch in range(num_epochs):\n",
    "        model.train()\n",
    "        correct = 0\n",
    "        total = 0\n",
    "\n",
    "        for inputs, labels in train_loader:\n",
    "            inputs, labels = inputs.to(device), labels.to(device)\n",
    "            optimizer.zero_grad()\n",
    "            outputs = model(inputs)\n",
    "            loss = criterion(outputs, labels)\n",
    "            loss.backward()\n",
    "\n",
    "            if adv_training:\n",
    "                for param in model.parameters():\n",
    "                    if param.grad is not None:\n",
    "                        param.grad.data += 0.01 * torch.randn_like(param.grad.data)\n",
    "\n",
    "            optimizer.step()\n",
    "\n",
    "            _, predicted = outputs.max(1)\n",
    "            total += labels.size(0)\n",
    "            correct += predicted.eq(labels).sum().item()\n",
    "\n",
    "        epoch_accuracy = 100.0 * correct / total\n",
    "        train_accuracies.append(epoch_accuracy)\n",
    "\n",
    "        print(f'Epoch {epoch+1}/{num_epochs}, Accuracy: {epoch_accuracy:.2f}%')\n",
    "        scheduler.step(epoch_accuracy)\n",
    "\n",
    "    all_labels, all_preds = utils_a.test(model, device, test_loader, name)\n",
    "    print(classification_report(all_labels, all_preds, target_names=train_dataset.classes))\n",
    "    \n",
    "    return train_accuracies"
   ],
   "id": "79fa601fae413c24",
   "outputs": [],
   "execution_count": 5
  },
  {
   "metadata": {
    "ExecuteTime": {
     "end_time": "2024-08-28T09:26:29.382106Z",
     "start_time": "2024-08-28T08:45:01.327500Z"
    }
   },
   "cell_type": "code",
   "source": [
    "print(\"Training the clean model...\")\n",
    "clean_model = utils_a.CNN(num_classes=4).to(device)\n",
    "state_dict = torch.load('weights/cnn_10epochs.pth', map_location=device, weights_only=True)\n",
    "clean_model.load_state_dict(state_dict)\n",
    "clean_optimizer = optim.Adam(clean_model.parameters(), lr=0.0001, weight_decay=1e-5)\n",
    "clean_accuracies = train_and_evaluate(clean_model, clean_optimizer, train_loader, test_loader, \"clean\", num_epochs)\n",
    "\n",
    "print(\"Training the model attacked with DrunkOptimizer...\")\n",
    "attacked_model = utils_a.CNN(num_classes=4).to(device)\n",
    "attacked_model.load_state_dict(state_dict)\n",
    "base_optimizer = optim.Adam(attacked_model.parameters(), lr=0.0001, weight_decay=1e-5)\n",
    "drunk_optimizer = DrunkOptimizer(\n",
    "    attacked_model.parameters(),\n",
    "    base_optimizer=base_optimizer,\n",
    "    scale_strength=3,  # Potenziato\n",
    "    perturb_strength=3,  # Potenziato\n",
    "    attack_type='combined'\n",
    ")\n",
    "attacked_accuracies = train_and_evaluate(attacked_model, drunk_optimizer, train_loader, test_loader, \"attacked\", num_epochs)\n",
    "\n",
    "print(\"Training the model with defense techniques...\")\n",
    "defended_model = utils_a.CNN(num_classes=4).to(device)\n",
    "defended_model.load_state_dict(state_dict)\n",
    "defended_accuracies = train_and_evaluate(defended_model, drunk_optimizer, train_loader, test_loader, \"defended\", num_epochs, adv_training=True)\n",
    "\n",
    "# Plotting all accuracies together\n",
    "plt.figure(figsize=(10, 5))\n",
    "plt.plot(range(1, num_epochs + 1), clean_accuracies, marker='o', label='Clean Model')\n",
    "plt.plot(range(1, num_epochs + 1), attacked_accuracies, marker='o', label='Attacked Model')\n",
    "plt.plot(range(1, num_epochs + 1), defended_accuracies, marker='o', label='Defended Model')\n",
    "plt.title('Training Accuracy Comparison')\n",
    "plt.xlabel('Epochs')\n",
    "plt.ylabel('Accuracy (%)')\n",
    "plt.legend()\n",
    "plt.show()"
   ],
   "id": "f0200a18fc7f5904",
   "outputs": [
    {
     "name": "stdout",
     "output_type": "stream",
     "text": [
      "Training the clean model...\n"
     ]
    },
    {
     "name": "stderr",
     "output_type": "stream",
     "text": [
      "/Users/alessandrofolloni/PycharmProjects/break-fix/nuovo_ambiente/lib/python3.9/site-packages/torch/optim/lr_scheduler.py:60: UserWarning: The verbose parameter is deprecated. Please use get_last_lr() to access the learning rate.\n",
      "  warnings.warn(\n"
     ]
    },
    {
     "name": "stdout",
     "output_type": "stream",
     "text": [
      "Epoch 1/5, Accuracy: 71.94%\n",
      "Epoch 2/5, Accuracy: 80.02%\n",
      "Epoch 3/5, Accuracy: 81.71%\n",
      "Epoch 4/5, Accuracy: 83.81%\n",
      "Epoch 5/5, Accuracy: 84.42%\n",
      "Testing started on clean.\n",
      "Testing completed on clean.\n",
      "              precision    recall  f1-score   support\n",
      "\n",
      "      glioma       0.90      0.81      0.86       300\n",
      "  meningioma       0.77      0.86      0.81       306\n",
      "     notumor       0.95      0.97      0.96       405\n",
      "   pituitary       0.95      0.90      0.92       300\n",
      "\n",
      "    accuracy                           0.89      1311\n",
      "   macro avg       0.89      0.89      0.89      1311\n",
      "weighted avg       0.90      0.89      0.89      1311\n",
      "\n",
      "Training the model attacked with DrunkOptimizer...\n"
     ]
    },
    {
     "name": "stderr",
     "output_type": "stream",
     "text": [
      "/Users/alessandrofolloni/PycharmProjects/break-fix/nuovo_ambiente/lib/python3.9/site-packages/torch/optim/lr_scheduler.py:60: UserWarning: The verbose parameter is deprecated. Please use get_last_lr() to access the learning rate.\n",
      "  warnings.warn(\n"
     ]
    },
    {
     "name": "stdout",
     "output_type": "stream",
     "text": [
      "Epoch 1/5, Accuracy: 30.25%\n",
      "Epoch 2/5, Accuracy: 27.92%\n",
      "Epoch 3/5, Accuracy: 27.92%\n",
      "Epoch 4/5, Accuracy: 27.92%\n",
      "Epoch 5/5, Accuracy: 27.92%\n",
      "Testing started on attacked.\n",
      "Testing completed on attacked.\n"
     ]
    },
    {
     "name": "stderr",
     "output_type": "stream",
     "text": [
      "/Users/alessandrofolloni/PycharmProjects/break-fix/nuovo_ambiente/lib/python3.9/site-packages/sklearn/metrics/_classification.py:1531: UndefinedMetricWarning: Precision is ill-defined and being set to 0.0 in labels with no predicted samples. Use `zero_division` parameter to control this behavior.\n",
      "  _warn_prf(average, modifier, f\"{metric.capitalize()} is\", len(result))\n",
      "/Users/alessandrofolloni/PycharmProjects/break-fix/nuovo_ambiente/lib/python3.9/site-packages/sklearn/metrics/_classification.py:1531: UndefinedMetricWarning: Precision is ill-defined and being set to 0.0 in labels with no predicted samples. Use `zero_division` parameter to control this behavior.\n",
      "  _warn_prf(average, modifier, f\"{metric.capitalize()} is\", len(result))\n",
      "/Users/alessandrofolloni/PycharmProjects/break-fix/nuovo_ambiente/lib/python3.9/site-packages/sklearn/metrics/_classification.py:1531: UndefinedMetricWarning: Precision is ill-defined and being set to 0.0 in labels with no predicted samples. Use `zero_division` parameter to control this behavior.\n",
      "  _warn_prf(average, modifier, f\"{metric.capitalize()} is\", len(result))\n"
     ]
    },
    {
     "name": "stdout",
     "output_type": "stream",
     "text": [
      "              precision    recall  f1-score   support\n",
      "\n",
      "      glioma       0.00      0.00      0.00       300\n",
      "  meningioma       0.00      0.00      0.00       306\n",
      "     notumor       0.31      1.00      0.47       405\n",
      "   pituitary       0.00      0.00      0.00       300\n",
      "\n",
      "    accuracy                           0.31      1311\n",
      "   macro avg       0.08      0.25      0.12      1311\n",
      "weighted avg       0.10      0.31      0.15      1311\n",
      "\n",
      "Training the model with defense techniques...\n"
     ]
    },
    {
     "name": "stderr",
     "output_type": "stream",
     "text": [
      "/Users/alessandrofolloni/PycharmProjects/break-fix/nuovo_ambiente/lib/python3.9/site-packages/torch/optim/lr_scheduler.py:60: UserWarning: The verbose parameter is deprecated. Please use get_last_lr() to access the learning rate.\n",
      "  warnings.warn(\n"
     ]
    },
    {
     "name": "stdout",
     "output_type": "stream",
     "text": [
      "Epoch 1/5, Accuracy: 56.30%\n",
      "Epoch 2/5, Accuracy: 56.79%\n",
      "Epoch 3/5, Accuracy: 57.46%\n",
      "Epoch 4/5, Accuracy: 57.20%\n",
      "Epoch 5/5, Accuracy: 56.14%\n",
      "Testing started on defended.\n",
      "Testing completed on defended.\n",
      "              precision    recall  f1-score   support\n",
      "\n",
      "      glioma       0.99      0.87      0.93       300\n",
      "  meningioma       0.88      0.95      0.92       306\n",
      "     notumor       0.97      1.00      0.99       405\n",
      "   pituitary       0.99      0.99      0.99       300\n",
      "\n",
      "    accuracy                           0.96      1311\n",
      "   macro avg       0.96      0.95      0.95      1311\n",
      "weighted avg       0.96      0.96      0.96      1311\n",
      "\n"
     ]
    },
    {
     "data": {
      "text/plain": [
       "<Figure size 1000x500 with 1 Axes>"
      ],
      "image/png": "[encoded data removed]"
     },
     "metadata": {},
     "output_type": "display_data"
    }
   ],
   "execution_count": 6
  },
  {
   "metadata": {
    "ExecuteTime": {
     "end_time": "2024-08-28T11:24:20.368385Z",
     "start_time": "2024-08-28T09:26:29.398393Z"
    }
   },
   "cell_type": "code",
   "source": [
    "accuracy_results = {}\n",
    "\n",
    "for i in range(1, 10):\n",
    "    scale_strength = i\n",
    "    print(f\"Training the model attacked with DrunkOptimizer with scale strength = {scale_strength}...\")\n",
    "\n",
    "    # Train the attacked model\n",
    "    attacked_model = utils_a.CNN(num_classes=4).to(device)\n",
    "    attacked_model.load_state_dict(state_dict)\n",
    "    base_optimizer = optim.Adam(attacked_model.parameters(), lr=0.0001, weight_decay=1e-5)\n",
    "    drunk_optimizer = DrunkOptimizer(\n",
    "        attacked_model.parameters(),\n",
    "        base_optimizer=base_optimizer,\n",
    "        scale_strength=scale_strength,  # Potenziato\n",
    "        perturb_strength=scale_strength,  # Potenziato\n",
    "        attack_type='combined'\n",
    "    )\n",
    "    attacked_accuracies = train_and_evaluate(attacked_model, drunk_optimizer, train_loader, test_loader, \"attacked\", num_epochs)\n",
    "    # Store accuracies for plotting\n",
    "    accuracy_results[f'scale_strength_{scale_strength}'] = attacked_accuracies\n",
    "    \n",
    "    \n",
    "# Plotting all accuracies for different scale_strength values together\n",
    "plt.figure(figsize=(12, 6))\n",
    "for scale_strength, accuracies in accuracy_results.items():\n",
    "    plt.plot(range(1, num_epochs + 1), accuracies, marker='o', label=f'Scale Strength {scale_strength.split(\"_\")[-1]}')\n",
    "\n",
    "plt.title('Training Accuracy Comparison for Different Scale Strengths')\n",
    "plt.xlabel('Epochs')\n",
    "plt.ylabel('Accuracy (%)')\n",
    "plt.legend()\n",
    "plt.show()"
   ],
   "id": "db66db9c9336d113",
   "outputs": [
    {
     "name": "stdout",
     "output_type": "stream",
     "text": [
      "Training the model attacked with DrunkOptimizer with scale strength = 1...\n"
     ]
    },
    {
     "name": "stderr",
     "output_type": "stream",
     "text": [
      "/Users/alessandrofolloni/PycharmProjects/break-fix/nuovo_ambiente/lib/python3.9/site-packages/torch/optim/lr_scheduler.py:60: UserWarning: The verbose parameter is deprecated. Please use get_last_lr() to access the learning rate.\n",
      "  warnings.warn(\n"
     ]
    },
    {
     "name": "stdout",
     "output_type": "stream",
     "text": [
      "Epoch 1/5, Accuracy: 56.37%\n",
      "Epoch 2/5, Accuracy: 55.81%\n",
      "Epoch 3/5, Accuracy: 54.50%\n",
      "Epoch 4/5, Accuracy: 55.79%\n",
      "Epoch 5/5, Accuracy: 54.87%\n",
      "Testing started on attacked.\n",
      "Testing completed on attacked.\n",
      "              precision    recall  f1-score   support\n",
      "\n",
      "      glioma       0.99      0.93      0.96       300\n",
      "  meningioma       0.93      0.92      0.92       306\n",
      "     notumor       0.96      1.00      0.98       405\n",
      "   pituitary       0.97      0.99      0.98       300\n",
      "\n",
      "    accuracy                           0.96      1311\n",
      "   macro avg       0.96      0.96      0.96      1311\n",
      "weighted avg       0.96      0.96      0.96      1311\n",
      "\n",
      "Training the model attacked with DrunkOptimizer with scale strength = 2...\n"
     ]
    },
    {
     "name": "stderr",
     "output_type": "stream",
     "text": [
      "/Users/alessandrofolloni/PycharmProjects/break-fix/nuovo_ambiente/lib/python3.9/site-packages/torch/optim/lr_scheduler.py:60: UserWarning: The verbose parameter is deprecated. Please use get_last_lr() to access the learning rate.\n",
      "  warnings.warn(\n"
     ]
    },
    {
     "name": "stdout",
     "output_type": "stream",
     "text": [
      "Epoch 1/5, Accuracy: 30.44%\n",
      "Epoch 2/5, Accuracy: 27.92%\n",
      "Epoch 3/5, Accuracy: 27.92%\n",
      "Epoch 4/5, Accuracy: 27.92%\n",
      "Epoch 5/5, Accuracy: 27.92%\n",
      "Testing started on attacked.\n",
      "Testing completed on attacked.\n",
      "              precision    recall  f1-score   support\n",
      "\n",
      "      glioma       0.00      0.00      0.00       300\n",
      "  meningioma       0.00      0.00      0.00       306\n",
      "     notumor       0.31      1.00      0.47       405\n",
      "   pituitary       0.00      0.00      0.00       300\n",
      "\n",
      "    accuracy                           0.31      1311\n",
      "   macro avg       0.08      0.25      0.12      1311\n",
      "weighted avg       0.10      0.31      0.15      1311\n",
      "\n",
      "Training the model attacked with DrunkOptimizer with scale strength = 3...\n"
     ]
    },
    {
     "name": "stderr",
     "output_type": "stream",
     "text": [
      "/Users/alessandrofolloni/PycharmProjects/break-fix/nuovo_ambiente/lib/python3.9/site-packages/sklearn/metrics/_classification.py:1531: UndefinedMetricWarning: Precision is ill-defined and being set to 0.0 in labels with no predicted samples. Use `zero_division` parameter to control this behavior.\n",
      "  _warn_prf(average, modifier, f\"{metric.capitalize()} is\", len(result))\n",
      "/Users/alessandrofolloni/PycharmProjects/break-fix/nuovo_ambiente/lib/python3.9/site-packages/sklearn/metrics/_classification.py:1531: UndefinedMetricWarning: Precision is ill-defined and being set to 0.0 in labels with no predicted samples. Use `zero_division` parameter to control this behavior.\n",
      "  _warn_prf(average, modifier, f\"{metric.capitalize()} is\", len(result))\n",
      "/Users/alessandrofolloni/PycharmProjects/break-fix/nuovo_ambiente/lib/python3.9/site-packages/sklearn/metrics/_classification.py:1531: UndefinedMetricWarning: Precision is ill-defined and being set to 0.0 in labels with no predicted samples. Use `zero_division` parameter to control this behavior.\n",
      "  _warn_prf(average, modifier, f\"{metric.capitalize()} is\", len(result))\n",
      "/Users/alessandrofolloni/PycharmProjects/break-fix/nuovo_ambiente/lib/python3.9/site-packages/torch/optim/lr_scheduler.py:60: UserWarning: The verbose parameter is deprecated. Please use get_last_lr() to access the learning rate.\n",
      "  warnings.warn(\n"
     ]
    },
    {
     "name": "stdout",
     "output_type": "stream",
     "text": [
      "Epoch 1/5, Accuracy: 30.09%\n",
      "Epoch 2/5, Accuracy: 27.92%\n",
      "Epoch 3/5, Accuracy: 27.92%\n",
      "Epoch 4/5, Accuracy: 27.92%\n",
      "Epoch 5/5, Accuracy: 27.92%\n",
      "Testing started on attacked.\n",
      "Testing completed on attacked.\n",
      "              precision    recall  f1-score   support\n",
      "\n",
      "      glioma       0.00      0.00      0.00       300\n",
      "  meningioma       0.00      0.00      0.00       306\n",
      "     notumor       0.31      1.00      0.47       405\n",
      "   pituitary       0.00      0.00      0.00       300\n",
      "\n",
      "    accuracy                           0.31      1311\n",
      "   macro avg       0.08      0.25      0.12      1311\n",
      "weighted avg       0.10      0.31      0.15      1311\n",
      "\n",
      "Training the model attacked with DrunkOptimizer with scale strength = 4...\n"
     ]
    },
    {
     "name": "stderr",
     "output_type": "stream",
     "text": [
      "/Users/alessandrofolloni/PycharmProjects/break-fix/nuovo_ambiente/lib/python3.9/site-packages/sklearn/metrics/_classification.py:1531: UndefinedMetricWarning: Precision is ill-defined and being set to 0.0 in labels with no predicted samples. Use `zero_division` parameter to control this behavior.\n",
      "  _warn_prf(average, modifier, f\"{metric.capitalize()} is\", len(result))\n",
      "/Users/alessandrofolloni/PycharmProjects/break-fix/nuovo_ambiente/lib/python3.9/site-packages/sklearn/metrics/_classification.py:1531: UndefinedMetricWarning: Precision is ill-defined and being set to 0.0 in labels with no predicted samples. Use `zero_division` parameter to control this behavior.\n",
      "  _warn_prf(average, modifier, f\"{metric.capitalize()} is\", len(result))\n",
      "/Users/alessandrofolloni/PycharmProjects/break-fix/nuovo_ambiente/lib/python3.9/site-packages/sklearn/metrics/_classification.py:1531: UndefinedMetricWarning: Precision is ill-defined and being set to 0.0 in labels with no predicted samples. Use `zero_division` parameter to control this behavior.\n",
      "  _warn_prf(average, modifier, f\"{metric.capitalize()} is\", len(result))\n",
      "/Users/alessandrofolloni/PycharmProjects/break-fix/nuovo_ambiente/lib/python3.9/site-packages/torch/optim/lr_scheduler.py:60: UserWarning: The verbose parameter is deprecated. Please use get_last_lr() to access the learning rate.\n",
      "  warnings.warn(\n"
     ]
    },
    {
     "name": "stdout",
     "output_type": "stream",
     "text": [
      "Epoch 1/5, Accuracy: 30.09%\n",
      "Epoch 2/5, Accuracy: 27.92%\n",
      "Epoch 3/5, Accuracy: 27.92%\n",
      "Epoch 4/5, Accuracy: 27.92%\n",
      "Epoch 5/5, Accuracy: 27.92%\n",
      "Testing started on attacked.\n",
      "Testing completed on attacked.\n",
      "              precision    recall  f1-score   support\n",
      "\n",
      "      glioma       0.00      0.00      0.00       300\n",
      "  meningioma       0.00      0.00      0.00       306\n",
      "     notumor       0.31      1.00      0.47       405\n",
      "   pituitary       0.00      0.00      0.00       300\n",
      "\n",
      "    accuracy                           0.31      1311\n",
      "   macro avg       0.08      0.25      0.12      1311\n",
      "weighted avg       0.10      0.31      0.15      1311\n",
      "\n",
      "Training the model attacked with DrunkOptimizer with scale strength = 5...\n"
     ]
    },
    {
     "name": "stderr",
     "output_type": "stream",
     "text": [
      "/Users/alessandrofolloni/PycharmProjects/break-fix/nuovo_ambiente/lib/python3.9/site-packages/sklearn/metrics/_classification.py:1531: UndefinedMetricWarning: Precision is ill-defined and being set to 0.0 in labels with no predicted samples. Use `zero_division` parameter to control this behavior.\n",
      "  _warn_prf(average, modifier, f\"{metric.capitalize()} is\", len(result))\n",
      "/Users/alessandrofolloni/PycharmProjects/break-fix/nuovo_ambiente/lib/python3.9/site-packages/sklearn/metrics/_classification.py:1531: UndefinedMetricWarning: Precision is ill-defined and being set to 0.0 in labels with no predicted samples. Use `zero_division` parameter to control this behavior.\n",
      "  _warn_prf(average, modifier, f\"{metric.capitalize()} is\", len(result))\n",
      "/Users/alessandrofolloni/PycharmProjects/break-fix/nuovo_ambiente/lib/python3.9/site-packages/sklearn/metrics/_classification.py:1531: UndefinedMetricWarning: Precision is ill-defined and being set to 0.0 in labels with no predicted samples. Use `zero_division` parameter to control this behavior.\n",
      "  _warn_prf(average, modifier, f\"{metric.capitalize()} is\", len(result))\n",
      "/Users/alessandrofolloni/PycharmProjects/break-fix/nuovo_ambiente/lib/python3.9/site-packages/torch/optim/lr_scheduler.py:60: UserWarning: The verbose parameter is deprecated. Please use get_last_lr() to access the learning rate.\n",
      "  warnings.warn(\n"
     ]
    },
    {
     "name": "stdout",
     "output_type": "stream",
     "text": [
      "Epoch 1/5, Accuracy: 30.15%\n",
      "Epoch 2/5, Accuracy: 27.92%\n",
      "Epoch 3/5, Accuracy: 27.92%\n",
      "Epoch 4/5, Accuracy: 27.92%\n",
      "Epoch 5/5, Accuracy: 27.92%\n",
      "Testing started on attacked.\n",
      "Testing completed on attacked.\n",
      "              precision    recall  f1-score   support\n",
      "\n",
      "      glioma       0.00      0.00      0.00       300\n",
      "  meningioma       0.00      0.00      0.00       306\n",
      "     notumor       0.31      1.00      0.47       405\n",
      "   pituitary       0.00      0.00      0.00       300\n",
      "\n",
      "    accuracy                           0.31      1311\n",
      "   macro avg       0.08      0.25      0.12      1311\n",
      "weighted avg       0.10      0.31      0.15      1311\n",
      "\n",
      "Training the model attacked with DrunkOptimizer with scale strength = 6...\n"
     ]
    },
    {
     "name": "stderr",
     "output_type": "stream",
     "text": [
      "/Users/alessandrofolloni/PycharmProjects/break-fix/nuovo_ambiente/lib/python3.9/site-packages/sklearn/metrics/_classification.py:1531: UndefinedMetricWarning: Precision is ill-defined and being set to 0.0 in labels with no predicted samples. Use `zero_division` parameter to control this behavior.\n",
      "  _warn_prf(average, modifier, f\"{metric.capitalize()} is\", len(result))\n",
      "/Users/alessandrofolloni/PycharmProjects/break-fix/nuovo_ambiente/lib/python3.9/site-packages/sklearn/metrics/_classification.py:1531: UndefinedMetricWarning: Precision is ill-defined and being set to 0.0 in labels with no predicted samples. Use `zero_division` parameter to control this behavior.\n",
      "  _warn_prf(average, modifier, f\"{metric.capitalize()} is\", len(result))\n",
      "/Users/alessandrofolloni/PycharmProjects/break-fix/nuovo_ambiente/lib/python3.9/site-packages/sklearn/metrics/_classification.py:1531: UndefinedMetricWarning: Precision is ill-defined and being set to 0.0 in labels with no predicted samples. Use `zero_division` parameter to control this behavior.\n",
      "  _warn_prf(average, modifier, f\"{metric.capitalize()} is\", len(result))\n",
      "/Users/alessandrofolloni/PycharmProjects/break-fix/nuovo_ambiente/lib/python3.9/site-packages/torch/optim/lr_scheduler.py:60: UserWarning: The verbose parameter is deprecated. Please use get_last_lr() to access the learning rate.\n",
      "  warnings.warn(\n"
     ]
    },
    {
     "name": "stdout",
     "output_type": "stream",
     "text": [
      "Epoch 1/5, Accuracy: 30.06%\n",
      "Epoch 2/5, Accuracy: 27.92%\n",
      "Epoch 3/5, Accuracy: 27.92%\n",
      "Epoch 4/5, Accuracy: 27.92%\n",
      "Epoch 5/5, Accuracy: 27.92%\n",
      "Testing started on attacked.\n",
      "Testing completed on attacked.\n",
      "              precision    recall  f1-score   support\n",
      "\n",
      "      glioma       0.00      0.00      0.00       300\n",
      "  meningioma       0.00      0.00      0.00       306\n",
      "     notumor       0.31      1.00      0.47       405\n",
      "   pituitary       0.00      0.00      0.00       300\n",
      "\n",
      "    accuracy                           0.31      1311\n",
      "   macro avg       0.08      0.25      0.12      1311\n",
      "weighted avg       0.10      0.31      0.15      1311\n",
      "\n",
      "Training the model attacked with DrunkOptimizer with scale strength = 7...\n"
     ]
    },
    {
     "name": "stderr",
     "output_type": "stream",
     "text": [
      "/Users/alessandrofolloni/PycharmProjects/break-fix/nuovo_ambiente/lib/python3.9/site-packages/sklearn/metrics/_classification.py:1531: UndefinedMetricWarning: Precision is ill-defined and being set to 0.0 in labels with no predicted samples. Use `zero_division` parameter to control this behavior.\n",
      "  _warn_prf(average, modifier, f\"{metric.capitalize()} is\", len(result))\n",
      "/Users/alessandrofolloni/PycharmProjects/break-fix/nuovo_ambiente/lib/python3.9/site-packages/sklearn/metrics/_classification.py:1531: UndefinedMetricWarning: Precision is ill-defined and being set to 0.0 in labels with no predicted samples. Use `zero_division` parameter to control this behavior.\n",
      "  _warn_prf(average, modifier, f\"{metric.capitalize()} is\", len(result))\n",
      "/Users/alessandrofolloni/PycharmProjects/break-fix/nuovo_ambiente/lib/python3.9/site-packages/sklearn/metrics/_classification.py:1531: UndefinedMetricWarning: Precision is ill-defined and being set to 0.0 in labels with no predicted samples. Use `zero_division` parameter to control this behavior.\n",
      "  _warn_prf(average, modifier, f\"{metric.capitalize()} is\", len(result))\n",
      "/Users/alessandrofolloni/PycharmProjects/break-fix/nuovo_ambiente/lib/python3.9/site-packages/torch/optim/lr_scheduler.py:60: UserWarning: The verbose parameter is deprecated. Please use get_last_lr() to access the learning rate.\n",
      "  warnings.warn(\n"
     ]
    },
    {
     "name": "stdout",
     "output_type": "stream",
     "text": [
      "Epoch 1/5, Accuracy: 30.18%\n",
      "Epoch 2/5, Accuracy: 27.92%\n",
      "Epoch 3/5, Accuracy: 27.92%\n",
      "Epoch 4/5, Accuracy: 27.92%\n",
      "Epoch 5/5, Accuracy: 27.92%\n",
      "Testing started on attacked.\n",
      "Testing completed on attacked.\n",
      "              precision    recall  f1-score   support\n",
      "\n",
      "      glioma       0.00      0.00      0.00       300\n",
      "  meningioma       0.00      0.00      0.00       306\n",
      "     notumor       0.31      1.00      0.47       405\n",
      "   pituitary       0.00      0.00      0.00       300\n",
      "\n",
      "    accuracy                           0.31      1311\n",
      "   macro avg       0.08      0.25      0.12      1311\n",
      "weighted avg       0.10      0.31      0.15      1311\n",
      "\n",
      "Training the model attacked with DrunkOptimizer with scale strength = 8...\n"
     ]
    },
    {
     "name": "stderr",
     "output_type": "stream",
     "text": [
      "/Users/alessandrofolloni/PycharmProjects/break-fix/nuovo_ambiente/lib/python3.9/site-packages/sklearn/metrics/_classification.py:1531: UndefinedMetricWarning: Precision is ill-defined and being set to 0.0 in labels with no predicted samples. Use `zero_division` parameter to control this behavior.\n",
      "  _warn_prf(average, modifier, f\"{metric.capitalize()} is\", len(result))\n",
      "/Users/alessandrofolloni/PycharmProjects/break-fix/nuovo_ambiente/lib/python3.9/site-packages/sklearn/metrics/_classification.py:1531: UndefinedMetricWarning: Precision is ill-defined and being set to 0.0 in labels with no predicted samples. Use `zero_division` parameter to control this behavior.\n",
      "  _warn_prf(average, modifier, f\"{metric.capitalize()} is\", len(result))\n",
      "/Users/alessandrofolloni/PycharmProjects/break-fix/nuovo_ambiente/lib/python3.9/site-packages/sklearn/metrics/_classification.py:1531: UndefinedMetricWarning: Precision is ill-defined and being set to 0.0 in labels with no predicted samples. Use `zero_division` parameter to control this behavior.\n",
      "  _warn_prf(average, modifier, f\"{metric.capitalize()} is\", len(result))\n",
      "/Users/alessandrofolloni/PycharmProjects/break-fix/nuovo_ambiente/lib/python3.9/site-packages/torch/optim/lr_scheduler.py:60: UserWarning: The verbose parameter is deprecated. Please use get_last_lr() to access the learning rate.\n",
      "  warnings.warn(\n"
     ]
    },
    {
     "name": "stdout",
     "output_type": "stream",
     "text": [
      "Epoch 1/5, Accuracy: 30.20%\n",
      "Epoch 2/5, Accuracy: 27.92%\n",
      "Epoch 3/5, Accuracy: 27.92%\n",
      "Epoch 4/5, Accuracy: 27.92%\n",
      "Epoch 5/5, Accuracy: 27.92%\n",
      "Testing started on attacked.\n",
      "Testing completed on attacked.\n",
      "              precision    recall  f1-score   support\n",
      "\n",
      "      glioma       0.00      0.00      0.00       300\n",
      "  meningioma       0.00      0.00      0.00       306\n",
      "     notumor       0.31      1.00      0.47       405\n",
      "   pituitary       0.00      0.00      0.00       300\n",
      "\n",
      "    accuracy                           0.31      1311\n",
      "   macro avg       0.08      0.25      0.12      1311\n",
      "weighted avg       0.10      0.31      0.15      1311\n",
      "\n",
      "Training the model attacked with DrunkOptimizer with scale strength = 9...\n"
     ]
    },
    {
     "name": "stderr",
     "output_type": "stream",
     "text": [
      "/Users/alessandrofolloni/PycharmProjects/break-fix/nuovo_ambiente/lib/python3.9/site-packages/sklearn/metrics/_classification.py:1531: UndefinedMetricWarning: Precision is ill-defined and being set to 0.0 in labels with no predicted samples. Use `zero_division` parameter to control this behavior.\n",
      "  _warn_prf(average, modifier, f\"{metric.capitalize()} is\", len(result))\n",
      "/Users/alessandrofolloni/PycharmProjects/break-fix/nuovo_ambiente/lib/python3.9/site-packages/sklearn/metrics/_classification.py:1531: UndefinedMetricWarning: Precision is ill-defined and being set to 0.0 in labels with no predicted samples. Use `zero_division` parameter to control this behavior.\n",
      "  _warn_prf(average, modifier, f\"{metric.capitalize()} is\", len(result))\n",
      "/Users/alessandrofolloni/PycharmProjects/break-fix/nuovo_ambiente/lib/python3.9/site-packages/sklearn/metrics/_classification.py:1531: UndefinedMetricWarning: Precision is ill-defined and being set to 0.0 in labels with no predicted samples. Use `zero_division` parameter to control this behavior.\n",
      "  _warn_prf(average, modifier, f\"{metric.capitalize()} is\", len(result))\n",
      "/Users/alessandrofolloni/PycharmProjects/break-fix/nuovo_ambiente/lib/python3.9/site-packages/torch/optim/lr_scheduler.py:60: UserWarning: The verbose parameter is deprecated. Please use get_last_lr() to access the learning rate.\n",
      "  warnings.warn(\n"
     ]
    },
    {
     "name": "stdout",
     "output_type": "stream",
     "text": [
      "Epoch 1/5, Accuracy: 29.97%\n",
      "Epoch 2/5, Accuracy: 27.92%\n",
      "Epoch 3/5, Accuracy: 27.92%\n",
      "Epoch 4/5, Accuracy: 27.92%\n",
      "Epoch 5/5, Accuracy: 27.92%\n",
      "Testing started on attacked.\n",
      "Testing completed on attacked.\n",
      "              precision    recall  f1-score   support\n",
      "\n",
      "      glioma       0.00      0.00      0.00       300\n",
      "  meningioma       0.00      0.00      0.00       306\n",
      "     notumor       0.31      1.00      0.47       405\n",
      "   pituitary       0.00      0.00      0.00       300\n",
      "\n",
      "    accuracy                           0.31      1311\n",
      "   macro avg       0.08      0.25      0.12      1311\n",
      "weighted avg       0.10      0.31      0.15      1311\n",
      "\n"
     ]
    },
    {
     "name": "stderr",
     "output_type": "stream",
     "text": [
      "/Users/alessandrofolloni/PycharmProjects/break-fix/nuovo_ambiente/lib/python3.9/site-packages/sklearn/metrics/_classification.py:1531: UndefinedMetricWarning: Precision is ill-defined and being set to 0.0 in labels with no predicted samples. Use `zero_division` parameter to control this behavior.\n",
      "  _warn_prf(average, modifier, f\"{metric.capitalize()} is\", len(result))\n",
      "/Users/alessandrofolloni/PycharmProjects/break-fix/nuovo_ambiente/lib/python3.9/site-packages/sklearn/metrics/_classification.py:1531: UndefinedMetricWarning: Precision is ill-defined and being set to 0.0 in labels with no predicted samples. Use `zero_division` parameter to control this behavior.\n",
      "  _warn_prf(average, modifier, f\"{metric.capitalize()} is\", len(result))\n",
      "/Users/alessandrofolloni/PycharmProjects/break-fix/nuovo_ambiente/lib/python3.9/site-packages/sklearn/metrics/_classification.py:1531: UndefinedMetricWarning: Precision is ill-defined and being set to 0.0 in labels with no predicted samples. Use `zero_division` parameter to control this behavior.\n",
      "  _warn_prf(average, modifier, f\"{metric.capitalize()} is\", len(result))\n"
     ]
    },
    {
     "data": {
      "text/plain": [
       "<Figure size 1200x600 with 1 Axes>"
      ],
      "image/png": "[encoded data removed]"
     },
     "metadata": {},
     "output_type": "display_data"
    }
   ],
   "execution_count": 7
  },
  {
   "metadata": {
    "ExecuteTime": {
     "end_time": "2024-08-28T11:24:20.384697Z",
     "start_time": "2024-08-28T11:24:20.378780Z"
    }
   },
   "cell_type": "code",
   "source": "",
   "id": "286e9285caac4ec4",
   "outputs": [],
   "execution_count": 7
  }
 ],
 "metadata": {
  "kernelspec": {
   "display_name": "Python 3",
   "language": "python",
   "name": "python3"
  },
  "language_info": {
   "codemirror_mode": {
    "name": "ipython",
    "version": 2
   },
   "file_extension": ".py",
   "mimetype": "text/x-python",
   "name": "python",
   "nbconvert_exporter": "python",
   "pygments_lexer": "ipython2",
   "version": "2.7.6"
  }
 },
 "nbformat": 4,
 "nbformat_minor": 5
}
