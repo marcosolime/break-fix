{
 "cells": [
  {
   "cell_type": "code",
   "id": "initial_id",
   "metadata": {
    "collapsed": true,
    "ExecuteTime": {
     "end_time": "2024-08-27T07:05:48.530621Z",
     "start_time": "2024-08-27T07:05:46.463413Z"
    }
   },
   "source": [
    "import torch\n",
    "from torch.optim import Optimizer\n",
    "from torchvision import models, datasets, transforms\n",
    "from torch.utils.data import DataLoader\n",
    "import torch.nn as nn\n",
    "import torch.optim as optim\n",
    "import utils_a\n",
    "import numpy as np\n",
    "import torch.optim.lr_scheduler as lr_scheduler\n",
    "from sklearn.metrics import classification_report\n",
    "\n",
    "utils_a.set_seed(42)\n",
    "device = utils_a.set_device()"
   ],
   "outputs": [
    {
     "name": "stdout",
     "output_type": "stream",
     "text": [
      "Using mps device.\n"
     ]
    }
   ],
   "execution_count": 1
  },
  {
   "metadata": {
    "ExecuteTime": {
     "end_time": "2024-08-27T07:05:48.567972Z",
     "start_time": "2024-08-27T07:05:48.531729Z"
    }
   },
   "cell_type": "code",
   "source": [
    "dataset_folder = \"mri_brain_tumor\"\n",
    "#mean, std = utils_a.compute_mean_std(train_loader)\n",
    "mean, std = torch.tensor([0.1855] * 3), torch.tensor([0.1813] * 3)  # precomputed, to save time\n",
    "\n",
    "print(f\"Mean: {mean}\")\n",
    "print(f\"Std: {std}\")\n",
    "train_transform = transforms.Compose([\n",
    "    transforms.RandomHorizontalFlip(p=0.5),  # Flip orizzontale\n",
    "    transforms.RandomVerticalFlip(p=0.5),  # Flip verticale\n",
    "    transforms.RandomRotation(degrees=15),  # Rotazione casuale di 15 gradi\n",
    "    transforms.ColorJitter(brightness=0.2, contrast=0.2, saturation=0.2, hue=0.1),  # Variazione casuale dei colori\n",
    "    transforms.RandomResizedCrop(size=224, scale=(0.8, 1.0)),  # Crop e ridimensionamento casuale\n",
    "    transforms.ToTensor(),  # Converti in tensore\n",
    "    transforms.RandomErasing(p=0.5, scale=(0.02, 0.2), ratio=(0.3, 3.3)),  # Erasing casuale\n",
    "    transforms.Normalize(mean=mean, std=std)  # Normalizzazione\n",
    "])\n",
    "\n",
    "# Transformation for testing dataset without data augmentation\n",
    "test_transform = transforms.Compose([\n",
    "    transforms.Resize((224, 224)),  # Resize the image to 224x224\n",
    "    transforms.ToTensor(),  # Convert the image to a tensor\n",
    "    transforms.Normalize(mean=mean, std=std)  # Normalize the image\n",
    "])\n",
    "\n",
    "# Apply the transformations to the datasets\n",
    "train_dataset = datasets.ImageFolder(root=f'{dataset_folder}/Training', transform=train_transform)\n",
    "test_dataset = datasets.ImageFolder(root=f'{dataset_folder}/Testing', transform=test_transform)\n",
    "\n",
    "train_loader = DataLoader(train_dataset, batch_size=8, shuffle=True, num_workers=1)\n",
    "test_loader = DataLoader(test_dataset, batch_size=8, shuffle=True, num_workers=1)"
   ],
   "id": "511724dc7cafe137",
   "outputs": [
    {
     "name": "stdout",
     "output_type": "stream",
     "text": [
      "Mean: tensor([0.1855, 0.1855, 0.1855])\n",
      "Std: tensor([0.1813, 0.1813, 0.1813])\n"
     ]
    }
   ],
   "execution_count": 2
  },
  {
   "metadata": {
    "ExecuteTime": {
     "end_time": "2024-08-27T07:05:48.570741Z",
     "start_time": "2024-08-27T07:05:48.568840Z"
    }
   },
   "cell_type": "code",
   "source": "num_epochs = 5",
   "id": "5030255c897110db",
   "outputs": [],
   "execution_count": 3
  },
  {
   "metadata": {},
   "cell_type": "markdown",
   "source": "#### ATTACK 5: manipulating the gradient direction",
   "id": "d9042f0f94efcb7"
  },
  {
   "metadata": {
    "ExecuteTime": {
     "end_time": "2024-08-27T07:05:48.577279Z",
     "start_time": "2024-08-27T07:05:48.572485Z"
    }
   },
   "cell_type": "code",
   "source": [
    "class DrunkOptimizer(Optimizer):\n",
    "    def __init__(self, params, base_optimizer, scale_strength=0.7, perturb_strength=0.7, attack_type='combined', target_layers=None):\n",
    "        defaults = dict(lr=0.001, weight_decay=0.9)\n",
    "        super(DrunkOptimizer, self).__init__(params, defaults)\n",
    "        self.base_optimizer = base_optimizer\n",
    "        self.scale_strength = scale_strength\n",
    "        self.perturb_strength = perturb_strength\n",
    "        self.attack_type = attack_type\n",
    "        self.target_layers = target_layers\n",
    "        self.optimizer = base_optimizer\n",
    "\n",
    "    def step(self, closure=None):\n",
    "        for group in self.optimizer.param_groups:\n",
    "            for param in group['params']:\n",
    "                if param.grad is not None:\n",
    "                    self.attack_gradients(param)\n",
    "        self.optimizer.step(closure)\n",
    "    \n",
    "    def attack_gradients(self, param):\n",
    "        if self.target_layers is None or any(name in param.name for name in self.target_layers):\n",
    "            if self.attack_type == 'scale':\n",
    "                param.grad.data *= (1 - self.scale_strength)\n",
    "            elif self.attack_type == 'perturb':\n",
    "                noise = torch.randn_like(param.grad.data) * self.perturb_strength\n",
    "                param.grad.data += noise\n",
    "            elif self.attack_type == 'combined':\n",
    "                param.grad.data *= (1 - self.scale_strength)\n",
    "                noise = torch.randn_like(param.grad.data) * self.perturb_strength\n",
    "                param.grad.data += noise\n",
    "                \n",
    "    def zero_grad(self):\n",
    "        self.base_optimizer.zero_grad()"
   ],
   "id": "916e42bb7ee25b4e",
   "outputs": [],
   "execution_count": 4
  },
  {
   "metadata": {
    "ExecuteTime": {
     "end_time": "2024-08-27T07:05:48.582497Z",
     "start_time": "2024-08-27T07:05:48.578091Z"
    }
   },
   "cell_type": "code",
   "source": [
    "# Funzione per addestrare e valutare un modello\n",
    "def train_and_evaluate(model, optimizer, train_loader, test_loader, name, num_epochs=5, adv_training=False):    \n",
    "    criterion = nn.CrossEntropyLoss()\n",
    "    scheduler = lr_scheduler.ReduceLROnPlateau(optimizer, mode='min', factor=0.1, patience=5, verbose=True)\n",
    "\n",
    "    for epoch in range(num_epochs):\n",
    "        model.train()\n",
    "        running_loss = 0.0\n",
    "        for inputs, labels in train_loader:\n",
    "            inputs, labels = inputs.to(device), labels.to(device)\n",
    "            optimizer.zero_grad()\n",
    "            outputs = model(inputs)\n",
    "            loss = criterion(outputs, labels)\n",
    "            loss.backward()\n",
    "\n",
    "            if adv_training:\n",
    "                for param in model.parameters():\n",
    "                    if param.grad is not None:\n",
    "                        param.grad.data += 0.01 * torch.randn_like(param.grad.data)\n",
    "            \n",
    "            optimizer.step()\n",
    "            running_loss += loss.item() * inputs.size(0)\n",
    "        \n",
    "        epoch_loss = running_loss / len(train_loader.dataset)\n",
    "        print(f'Epoch {epoch+1}/{num_epochs}, Loss: {epoch_loss:.4f}')\n",
    "        scheduler.step(epoch_loss)\n",
    "    \n",
    "    all_labels, all_preds = utils_a.test(model, device, test_loader, name)\n",
    "    print(classification_report(all_labels, all_preds, target_names=train_dataset.classes))"
   ],
   "id": "1fb6c8f0571f5739",
   "outputs": [],
   "execution_count": 5
  },
  {
   "metadata": {},
   "cell_type": "markdown",
   "source": "### DIFESA",
   "id": "7559d55697236875"
  },
  {
   "metadata": {
    "ExecuteTime": {
     "end_time": "2024-08-27T07:40:24.672553Z",
     "start_time": "2024-08-27T07:05:48.583268Z"
    }
   },
   "cell_type": "code",
   "source": [
    "# Addestramento e valutazione dei modelli\n",
    "print(\"Addestramento del modello pulito...\")\n",
    "clean_model = utils_a.CNN(num_classes=4).to(device)\n",
    "state_dict = torch.load('weights/cnn_10epochs.pth', map_location=device, weights_only=True)\n",
    "clean_model.load_state_dict(state_dict)\n",
    "clean_optimizer = optim.Adam(clean_model.parameters(), lr=0.0001, weight_decay=1e-5)\n",
    "train_and_evaluate(clean_model, clean_optimizer, train_loader, test_loader, \"clean\", num_epochs)\n",
    "\n",
    "print(\"Addestramento del modello attaccato con DrunkOptimizer...\")\n",
    "attacked_model = utils_a.CNN(num_classes=4).to(device)\n",
    "attacked_model.load_state_dict(state_dict)\n",
    "base_optimizer = optim.Adam(attacked_model.parameters(), lr=0.0001, weight_decay=1e-5)\n",
    "drunk_optimizer = DrunkOptimizer(\n",
    "    attacked_model.parameters(),\n",
    "    base_optimizer=base_optimizer,\n",
    "    scale_strength=0.7,  # Potenziato\n",
    "    perturb_strength=0.7,  # Potenziato\n",
    "    attack_type='combined'\n",
    ")\n",
    "train_and_evaluate(attacked_model, drunk_optimizer, train_loader, test_loader, \"attacked\", num_epochs)\n",
    "\n",
    "print(\"Addestramento del modello con tecniche di difesa...\")\n",
    "defended_model = utils_a.CNN(num_classes=4).to(device)\n",
    "defended_model.load_state_dict(state_dict)\n",
    "defense_optimizer = optim.Adam(defended_model.parameters(), lr=0.0001, weight_decay=1e-5)\n",
    "train_and_evaluate(defended_model, defense_optimizer, train_loader, test_loader, \"defended\", num_epochs, adv_training=True)"
   ],
   "id": "6e49e4468608dd3",
   "outputs": [
    {
     "name": "stdout",
     "output_type": "stream",
     "text": [
      "Addestramento del modello pulito...\n"
     ]
    },
    {
     "name": "stderr",
     "output_type": "stream",
     "text": [
      "/Users/alessandrofolloni/PycharmProjects/break-fix/nuovo_ambiente/lib/python3.9/site-packages/torch/optim/lr_scheduler.py:60: UserWarning: The verbose parameter is deprecated. Please use get_last_lr() to access the learning rate.\n",
      "  warnings.warn(\n"
     ]
    },
    {
     "name": "stdout",
     "output_type": "stream",
     "text": [
      "Epoch 1/5, Loss: 0.7797\n",
      "Epoch 2/5, Loss: 0.5206\n",
      "Epoch 3/5, Loss: 0.4700\n",
      "Epoch 4/5, Loss: 0.4338\n",
      "Epoch 5/5, Loss: 0.4052\n",
      "Testing started on clean.\n",
      "Testing completed on clean.\n",
      "              precision    recall  f1-score   support\n",
      "\n",
      "      glioma       0.90      0.81      0.86       300\n",
      "  meningioma       0.77      0.86      0.81       306\n",
      "     notumor       0.95      0.97      0.96       405\n",
      "   pituitary       0.95      0.90      0.92       300\n",
      "\n",
      "    accuracy                           0.89      1311\n",
      "   macro avg       0.89      0.89      0.89      1311\n",
      "weighted avg       0.90      0.89      0.89      1311\n",
      "\n",
      "Addestramento del modello attaccato con DrunkOptimizer...\n"
     ]
    },
    {
     "name": "stderr",
     "output_type": "stream",
     "text": [
      "/Users/alessandrofolloni/PycharmProjects/break-fix/nuovo_ambiente/lib/python3.9/site-packages/torch/optim/lr_scheduler.py:60: UserWarning: The verbose parameter is deprecated. Please use get_last_lr() to access the learning rate.\n",
      "  warnings.warn(\n"
     ]
    },
    {
     "name": "stdout",
     "output_type": "stream",
     "text": [
      "Epoch 1/5, Loss: 1.4120\n",
      "Epoch 2/5, Loss: 0.9110\n",
      "Epoch 3/5, Loss: 0.7687\n",
      "Epoch 4/5, Loss: 0.7359\n",
      "Epoch 5/5, Loss: 0.7237\n",
      "Testing started on attacked.\n",
      "Testing completed on attacked.\n",
      "              precision    recall  f1-score   support\n",
      "\n",
      "      glioma       0.88      0.93      0.90       300\n",
      "  meningioma       0.84      0.88      0.86       306\n",
      "     notumor       0.98      0.99      0.98       405\n",
      "   pituitary       0.96      0.85      0.90       300\n",
      "\n",
      "    accuracy                           0.92      1311\n",
      "   macro avg       0.91      0.91      0.91      1311\n",
      "weighted avg       0.92      0.92      0.92      1311\n",
      "\n",
      "Addestramento del modello con tecniche di difesa...\n"
     ]
    },
    {
     "name": "stderr",
     "output_type": "stream",
     "text": [
      "/Users/alessandrofolloni/PycharmProjects/break-fix/nuovo_ambiente/lib/python3.9/site-packages/torch/optim/lr_scheduler.py:60: UserWarning: The verbose parameter is deprecated. Please use get_last_lr() to access the learning rate.\n",
      "  warnings.warn(\n"
     ]
    },
    {
     "name": "stdout",
     "output_type": "stream",
     "text": [
      "Epoch 1/5, Loss: 0.7004\n",
      "Epoch 2/5, Loss: 0.5263\n",
      "Epoch 3/5, Loss: 0.4658\n",
      "Epoch 4/5, Loss: 0.4302\n",
      "Epoch 5/5, Loss: 0.4039\n",
      "Testing started on defended.\n",
      "Testing completed on defended.\n",
      "              precision    recall  f1-score   support\n",
      "\n",
      "      glioma       0.98      0.80      0.88       300\n",
      "  meningioma       0.80      0.86      0.83       306\n",
      "     notumor       0.94      1.00      0.97       405\n",
      "   pituitary       0.95      0.97      0.96       300\n",
      "\n",
      "    accuracy                           0.91      1311\n",
      "   macro avg       0.92      0.91      0.91      1311\n",
      "weighted avg       0.92      0.91      0.91      1311\n",
      "\n"
     ]
    }
   ],
   "execution_count": 6
  }
 ],
 "metadata": {
  "kernelspec": {
   "display_name": "Python 3",
   "language": "python",
   "name": "python3"
  },
  "language_info": {
   "codemirror_mode": {
    "name": "ipython",
    "version": 2
   },
   "file_extension": ".py",
   "mimetype": "text/x-python",
   "name": "python",
   "nbconvert_exporter": "python",
   "pygments_lexer": "ipython2",
   "version": "2.7.6"
  }
 },
 "nbformat": 4,
 "nbformat_minor": 5
}
