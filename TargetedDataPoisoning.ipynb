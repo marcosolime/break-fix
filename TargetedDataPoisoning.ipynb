{
 "cells": [
  {
   "cell_type": "code",
   "id": "initial_id",
   "metadata": {
    "collapsed": true,
    "ExecuteTime": {
     "end_time": "2024-08-27T09:31:14.094399Z",
     "start_time": "2024-08-27T09:31:11.543829Z"
    }
   },
   "source": [
    "import torch\n",
    "from torchvision import models, datasets, transforms\n",
    "from torch.utils.data import DataLoader\n",
    "import torch.nn as nn\n",
    "import torch.optim as optim\n",
    "import utils_a\n",
    "from sklearn.metrics import classification_report\n",
    "import matplotlib.pyplot as plt\n",
    "\n",
    "utils_a.set_seed(42)\n",
    "device = utils_a.set_device()"
   ],
   "outputs": [
    {
     "name": "stdout",
     "output_type": "stream",
     "text": [
      "Using mps device.\n"
     ]
    }
   ],
   "execution_count": 1
  },
  {
   "metadata": {},
   "cell_type": "markdown",
   "source": "### PREPROCESSING",
   "id": "cf98411b1ac1c9b0"
  },
  {
   "metadata": {
    "ExecuteTime": {
     "end_time": "2024-08-27T09:31:14.097231Z",
     "start_time": "2024-08-27T09:31:14.095501Z"
    }
   },
   "cell_type": "code",
   "source": "dataset_folder = \"mri_brain_tumor\"",
   "id": "3732f69aedd1378d",
   "outputs": [],
   "execution_count": 2
  },
  {
   "metadata": {
    "ExecuteTime": {
     "end_time": "2024-08-27T09:31:14.109569Z",
     "start_time": "2024-08-27T09:31:14.097957Z"
    }
   },
   "cell_type": "code",
   "source": [
    "#mean, std = utils_a.compute_mean_std(train_loader)\n",
    "mean, std = torch.tensor([0.1855]*3), torch.tensor([0.1813]*3) # precomputed, to save time\n",
    "\n",
    "print(f\"Mean: {mean}\")\n",
    "print(f\"Std: {std}\")"
   ],
   "id": "550ace7f638d6727",
   "outputs": [
    {
     "name": "stdout",
     "output_type": "stream",
     "text": [
      "Mean: tensor([0.1855, 0.1855, 0.1855])\n",
      "Std: tensor([0.1813, 0.1813, 0.1813])\n"
     ]
    }
   ],
   "execution_count": 3
  },
  {
   "metadata": {
    "ExecuteTime": {
     "end_time": "2024-08-27T09:31:14.142440Z",
     "start_time": "2024-08-27T09:31:14.111029Z"
    }
   },
   "cell_type": "code",
   "source": [
    "train_transform = transforms.Compose([\n",
    "    transforms.RandomHorizontalFlip(p=0.5),              # Flip orizzontale\n",
    "    transforms.RandomVerticalFlip(p=0.5),                # Flip verticale\n",
    "    transforms.RandomRotation(degrees=15),               # Rotazione casuale di 15 gradi\n",
    "    transforms.ColorJitter(brightness=0.2, contrast=0.2, saturation=0.2, hue=0.1),  # Variazione casuale dei colori\n",
    "    transforms.RandomResizedCrop(size=224, scale=(0.8, 1.0)),  # Crop e ridimensionamento casuale\n",
    "    transforms.ToTensor(),                               # Converti in tensore\n",
    "    transforms.RandomErasing(p=0.5, scale=(0.02, 0.2), ratio=(0.3, 3.3)),  # Erasing casuale\n",
    "    transforms.Normalize(mean=mean, std=std)             # Normalizzazione\n",
    "])\n",
    "\n",
    "# Transformation for testing dataset without data augmentation\n",
    "test_transform = transforms.Compose([\n",
    "    transforms.Resize((224, 224)),         # Resize the image to 224x224\n",
    "    transforms.ToTensor(),                 # Convert the image to a tensor\n",
    "    transforms.Normalize(mean=mean, std=std)  # Normalize the image\n",
    "])\n",
    "\n",
    "# Apply the transformations to the datasets\n",
    "train_dataset = datasets.ImageFolder(root=f'{dataset_folder}/Training', transform=train_transform)\n",
    "test_dataset = datasets.ImageFolder(root=f'{dataset_folder}/Testing', transform=test_transform)\n",
    "\n",
    "train_loader = DataLoader(train_dataset, batch_size=8, shuffle=True, num_workers=1)\n",
    "test_loader = DataLoader(test_dataset, batch_size=8, shuffle=True, num_workers=1)"
   ],
   "id": "fc0326cf21ffab97",
   "outputs": [],
   "execution_count": 4
  },
  {
   "metadata": {},
   "cell_type": "markdown",
   "source": "### PRETRAINED CNN IMPORT",
   "id": "58949be25778207a"
  },
  {
   "metadata": {
    "ExecuteTime": {
     "end_time": "2024-08-27T09:31:14.756114Z",
     "start_time": "2024-08-27T09:31:14.143152Z"
    }
   },
   "cell_type": "code",
   "source": [
    "import torch.optim.lr_scheduler as lr_scheduler\n",
    "\n",
    "model = utils_a.CNN(num_classes=4).to(device)\n",
    "state_dict = torch.load('weights/cnn_10epochs.pth', map_location=torch.device('cpu'), weights_only=True)\n",
    "\n",
    "try:\n",
    "    # Carica lo stato del modello\n",
    "    model.load_state_dict(state_dict)\n",
    "    model.to(device)\n",
    "    print(\"Model loaded successfully.\")\n",
    "except RuntimeError as e:\n",
    "    print(f\"RuntimeError during model loading: {e}\")\n",
    "except Exception as e:\n",
    "    print(f\"Exception: {e}\")\n",
    "    \n",
    "total_params = sum(p.numel() for p in model.parameters())\n",
    "print(f\"Total number of parameters: {total_params/(10**6):.3f} M\")\n",
    "criterion = nn.CrossEntropyLoss()\n",
    "optimizer = optim.Adam(model.parameters(), lr=0.0001, weight_decay=1e-5)\n",
    "scheduler = lr_scheduler.ReduceLROnPlateau(optimizer, mode='min', factor=0.1, patience=5, verbose=True)"
   ],
   "id": "3d37260c6e780e3f",
   "outputs": [
    {
     "name": "stdout",
     "output_type": "stream",
     "text": [
      "Model loaded successfully.\n",
      "Total number of parameters: 51.476 M\n"
     ]
    },
    {
     "name": "stderr",
     "output_type": "stream",
     "text": [
      "/Users/alessandrofolloni/PycharmProjects/break-fix/nuovo_ambiente/lib/python3.9/site-packages/torch/optim/lr_scheduler.py:60: UserWarning: The verbose parameter is deprecated. Please use get_last_lr() to access the learning rate.\n",
      "  warnings.warn(\n"
     ]
    }
   ],
   "execution_count": 5
  },
  {
   "metadata": {
    "ExecuteTime": {
     "end_time": "2024-08-27T09:31:20.871433Z",
     "start_time": "2024-08-27T09:31:14.757025Z"
    }
   },
   "cell_type": "code",
   "source": [
    "classes = train_dataset.classes\n",
    "all_labels, all_preds = utils_a.test(model, device, test_loader, 'test set')\n",
    "print(classification_report(all_labels, all_preds, target_names=classes))"
   ],
   "id": "a1b84ed1f1ad8328",
   "outputs": [
    {
     "name": "stdout",
     "output_type": "stream",
     "text": [
      "Testing started on test set.\n",
      "Testing completed on test set.\n",
      "              precision    recall  f1-score   support\n",
      "\n",
      "      glioma       0.99      0.90      0.94       300\n",
      "  meningioma       0.90      0.95      0.92       306\n",
      "     notumor       0.97      1.00      0.99       405\n",
      "   pituitary       0.99      0.99      0.99       300\n",
      "\n",
      "    accuracy                           0.96      1311\n",
      "   macro avg       0.96      0.96      0.96      1311\n",
      "weighted avg       0.96      0.96      0.96      1311\n",
      "\n"
     ]
    }
   ],
   "execution_count": 6
  },
  {
   "metadata": {
    "ExecuteTime": {
     "end_time": "2024-08-27T09:31:20.874581Z",
     "start_time": "2024-08-27T09:31:20.872890Z"
    }
   },
   "cell_type": "code",
   "source": "",
   "id": "f0e335ff6d77e2bc",
   "outputs": [],
   "execution_count": 6
  },
  {
   "metadata": {},
   "cell_type": "markdown",
   "source": "### POISONING",
   "id": "84f387cfb8dc718e"
  },
  {
   "metadata": {
    "ExecuteTime": {
     "end_time": "2024-08-27T09:31:20.878921Z",
     "start_time": "2024-08-27T09:31:20.875395Z"
    }
   },
   "cell_type": "code",
   "source": [
    "### SYSTEMATIC POISONING AND EVALUATION\n",
    "target_classes = [0, 1, 2, 3]\n",
    "num_epochs = 5\n",
    "results = []\n",
    "results_resnet = []\n",
    "batch_size = 16\n",
    "rate = 0.3\n",
    "\n",
    "train_loader = DataLoader(train_dataset, batch_size=batch_size, shuffle=True, num_workers=1)\n",
    "test_loader = DataLoader(test_dataset, batch_size=batch_size, shuffle=True, num_workers=1)"
   ],
   "id": "53e47a9a17680e79",
   "outputs": [],
   "execution_count": 7
  },
  {
   "metadata": {
    "ExecuteTime": {
     "end_time": "2024-08-27T10:18:35.933013Z",
     "start_time": "2024-08-27T09:31:20.880059Z"
    }
   },
   "cell_type": "code",
   "source": [
    "for target in target_classes:\n",
    "    # Avvelenamento del dataset di addestramento\n",
    "    poisoned_train_dataset = utils_a.targeted_poison_dataset(train_dataset, target_label=target)\n",
    "    poisoned_train_loader = DataLoader(poisoned_train_dataset, batch_size=batch_size, shuffle=True)\n",
    "    print(f\"Train set poisoned targeting class {train_dataset.classes[target]}!\")\n",
    "    \n",
    "    # Avvelenamento del dataset di test\n",
    "    poisoned_test_dataset = utils_a.random_poison_dataset(test_dataset, poison_rate=rate, exclude_labels=[target])\n",
    "    poisoned_test_loader = DataLoader(poisoned_test_dataset, batch_size=batch_size, shuffle=True)\n",
    "    print(f\"Test set poisoned with rate {rate}, excluding class {train_dataset.classes[target]}!\")\n",
    "\n",
    "    # Definizione del modello e dell'ottimizzatore\n",
    "    model = utils_a.CNN(num_classes=4).to(device)\n",
    "    optimizer = optim.Adam(model.parameters(), lr=0.0001)\n",
    "\n",
    "    # Addestramento del modello avvelenato\n",
    "    for epoch in range(num_epochs):\n",
    "        utils_a.train(poisoned_train_loader, model, optimizer, criterion, device, epoch, num_epochs)\n",
    "        val_loss = utils_a.validate(model, poisoned_test_loader, criterion, device)\n",
    "        scheduler.step(val_loss)\n",
    "        print(f'Epoch {epoch+1}/{num_epochs}, Validation Loss: {val_loss:.4f}')\n",
    "\n",
    "    # Test del modello sui dati puliti\n",
    "    all_labels_clean, all_preds_clean = utils_a.test(model, device, test_loader, 'test clean')\n",
    "    report_clean = classification_report(all_labels_clean, all_preds_clean, target_names=train_dataset.classes, output_dict=True, zero_division=0)\n",
    "    print(classification_report(all_labels_clean, all_preds_clean, target_names=train_dataset.classes, zero_division=0))\n",
    "\n",
    "    # Test del modello sui dati avvelenati\n",
    "    all_labels_poisoned, all_preds_poisoned = utils_a.test(model, device, poisoned_test_loader, 'test poisoned')\n",
    "    report_poisoned = classification_report(all_labels_poisoned, all_preds_poisoned, target_names=train_dataset.classes, output_dict=True, zero_division=0)\n",
    "    print(classification_report(all_labels_poisoned, all_preds_poisoned, target_names=train_dataset.classes, zero_division=0))\n",
    "\n",
    "    # Raccolta dei risultati\n",
    "    results.append({\n",
    "        \"target_class\": train_dataset.classes[target],\n",
    "        \"clean_report\": report_clean,\n",
    "        \"poisoned_report\": report_poisoned,\n",
    "    })"
   ],
   "id": "55c4c375fa3c7a1f",
   "outputs": [
    {
     "name": "stderr",
     "output_type": "stream",
     "text": [
      "100%|██████████| 5712/5712 [00:59<00:00, 95.25it/s] \n"
     ]
    },
    {
     "name": "stdout",
     "output_type": "stream",
     "text": [
      "1321 images of class 0 have been poisoned.\n",
      "Train set poisoned targeting class glioma!\n"
     ]
    },
    {
     "name": "stderr",
     "output_type": "stream",
     "text": [
      "100%|██████████| 1311/1311 [00:03<00:00, 364.71it/s]\n"
     ]
    },
    {
     "name": "stdout",
     "output_type": "stream",
     "text": [
      "304 images have been poisoned.\n",
      "Test set poisoned with rate 0.3, excluding class glioma!\n",
      "Training started.\n",
      "Epoch 1/5\n",
      "Training completed, loss: 0.6503\n",
      "Epoch 1/5, Validation Loss: 2.6614\n",
      "Training started.\n",
      "Epoch 2/5\n",
      "Training completed, loss: 0.3342\n",
      "Epoch 2/5, Validation Loss: 3.3646\n",
      "Training started.\n",
      "Epoch 3/5\n",
      "Training completed, loss: 0.2241\n",
      "Epoch 3/5, Validation Loss: 3.0921\n",
      "Training started.\n",
      "Epoch 4/5\n",
      "Training completed, loss: 0.1436\n",
      "Epoch 4/5, Validation Loss: 3.5054\n",
      "Training started.\n",
      "Epoch 5/5\n",
      "Training completed, loss: 0.1058\n",
      "Epoch 5/5, Validation Loss: 3.7909\n",
      "Testing started on test clean.\n",
      "Testing completed on test clean.\n",
      "              precision    recall  f1-score   support\n",
      "\n",
      "      glioma       0.00      0.00      0.00       300\n",
      "  meningioma       0.38      0.67      0.49       306\n",
      "     notumor       0.73      0.99      0.84       405\n",
      "   pituitary       0.95      0.70      0.80       300\n",
      "\n",
      "    accuracy                           0.62      1311\n",
      "   macro avg       0.51      0.59      0.53      1311\n",
      "weighted avg       0.53      0.62      0.56      1311\n",
      "\n",
      "Testing started on test poisoned.\n",
      "Testing completed on test poisoned.\n",
      "              precision    recall  f1-score   support\n",
      "\n",
      "      glioma       0.00      0.00      0.00       300\n",
      "  meningioma       0.32      0.47      0.38       306\n",
      "     notumor       0.74      0.92      0.82       405\n",
      "   pituitary       0.95      0.49      0.64       300\n",
      "\n",
      "    accuracy                           0.51      1311\n",
      "   macro avg       0.50      0.47      0.46      1311\n",
      "weighted avg       0.52      0.51      0.49      1311\n",
      "\n"
     ]
    },
    {
     "name": "stderr",
     "output_type": "stream",
     "text": [
      "100%|██████████| 5712/5712 [01:11<00:00, 80.04it/s] \n"
     ]
    },
    {
     "name": "stdout",
     "output_type": "stream",
     "text": [
      "1339 images of class 1 have been poisoned.\n",
      "Train set poisoned targeting class meningioma!\n"
     ]
    },
    {
     "name": "stderr",
     "output_type": "stream",
     "text": [
      "100%|██████████| 1311/1311 [00:03<00:00, 331.97it/s]\n"
     ]
    },
    {
     "name": "stdout",
     "output_type": "stream",
     "text": [
      "304 images have been poisoned.\n",
      "Test set poisoned with rate 0.3, excluding class meningioma!\n",
      "Training started.\n",
      "Epoch 1/5\n",
      "Training completed, loss: 0.6048\n",
      "Epoch 1/5, Validation Loss: 4.2431\n",
      "Training started.\n",
      "Epoch 2/5\n",
      "Training completed, loss: 0.2427\n",
      "Epoch 2/5, Validation Loss: 4.0830\n",
      "Training started.\n",
      "Epoch 3/5\n",
      "Training completed, loss: 0.1672\n",
      "Epoch 3/5, Validation Loss: 5.2886\n",
      "Training started.\n",
      "Epoch 4/5\n",
      "Training completed, loss: 0.0901\n",
      "Epoch 4/5, Validation Loss: 5.2729\n",
      "Training started.\n",
      "Epoch 5/5\n",
      "Training completed, loss: 0.0512\n",
      "Epoch 5/5, Validation Loss: 5.0157\n",
      "Testing started on test clean.\n",
      "Testing completed on test clean.\n",
      "              precision    recall  f1-score   support\n",
      "\n",
      "      glioma       0.58      0.98      0.73       300\n",
      "  meningioma       0.00      0.00      0.00       306\n",
      "     notumor       0.80      0.96      0.88       405\n",
      "   pituitary       0.86      0.91      0.88       300\n",
      "\n",
      "    accuracy                           0.73      1311\n",
      "   macro avg       0.56      0.71      0.62      1311\n",
      "weighted avg       0.58      0.73      0.64      1311\n",
      "\n",
      "Testing started on test poisoned.\n",
      "Testing completed on test poisoned.\n",
      "              precision    recall  f1-score   support\n",
      "\n",
      "      glioma       0.50      0.68      0.58       300\n",
      "  meningioma       0.00      0.00      0.00       306\n",
      "     notumor       0.76      0.73      0.74       405\n",
      "   pituitary       0.83      0.64      0.72       300\n",
      "\n",
      "    accuracy                           0.53      1311\n",
      "   macro avg       0.52      0.51      0.51      1311\n",
      "weighted avg       0.54      0.53      0.53      1311\n",
      "\n"
     ]
    },
    {
     "name": "stderr",
     "output_type": "stream",
     "text": [
      "100%|██████████| 5712/5712 [01:17<00:00, 73.47it/s] \n"
     ]
    },
    {
     "name": "stdout",
     "output_type": "stream",
     "text": [
      "1595 images of class 2 have been poisoned.\n",
      "Train set poisoned targeting class notumor!\n"
     ]
    },
    {
     "name": "stderr",
     "output_type": "stream",
     "text": [
      "100%|██████████| 1311/1311 [00:04<00:00, 309.36it/s]\n"
     ]
    },
    {
     "name": "stdout",
     "output_type": "stream",
     "text": [
      "283 images have been poisoned.\n",
      "Test set poisoned with rate 0.3, excluding class notumor!\n",
      "Training started.\n",
      "Epoch 1/5\n",
      "Training completed, loss: 0.8236\n",
      "Epoch 1/5, Validation Loss: 3.2637\n",
      "Training started.\n",
      "Epoch 2/5\n",
      "Training completed, loss: 0.4752\n",
      "Epoch 2/5, Validation Loss: 3.4383\n",
      "Training started.\n",
      "Epoch 3/5\n",
      "Training completed, loss: 0.3281\n",
      "Epoch 3/5, Validation Loss: 4.7064\n",
      "Training started.\n",
      "Epoch 4/5\n",
      "Training completed, loss: 0.2547\n",
      "Epoch 4/5, Validation Loss: 5.0675\n",
      "Training started.\n",
      "Epoch 5/5\n",
      "Training completed, loss: 0.1910\n",
      "Epoch 5/5, Validation Loss: 6.0453\n",
      "Testing started on test clean.\n",
      "Testing completed on test clean.\n",
      "              precision    recall  f1-score   support\n",
      "\n",
      "      glioma       0.62      0.63      0.63       300\n",
      "  meningioma       0.39      0.89      0.54       306\n",
      "     notumor       1.00      0.01      0.02       405\n",
      "   pituitary       0.76      0.79      0.78       300\n",
      "\n",
      "    accuracy                           0.53      1311\n",
      "   macro avg       0.70      0.58      0.49      1311\n",
      "weighted avg       0.72      0.53      0.45      1311\n",
      "\n",
      "Testing started on test poisoned.\n",
      "Testing completed on test poisoned.\n",
      "              precision    recall  f1-score   support\n",
      "\n",
      "      glioma       0.54      0.41      0.47       300\n",
      "  meningioma       0.34      0.62      0.44       306\n",
      "     notumor       0.01      0.01      0.01       405\n",
      "   pituitary       0.72      0.57      0.64       300\n",
      "\n",
      "    accuracy                           0.37      1311\n",
      "   macro avg       0.40      0.40      0.39      1311\n",
      "weighted avg       0.37      0.37      0.36      1311\n",
      "\n"
     ]
    },
    {
     "name": "stderr",
     "output_type": "stream",
     "text": [
      "100%|██████████| 5712/5712 [01:14<00:00, 76.23it/s] \n"
     ]
    },
    {
     "name": "stdout",
     "output_type": "stream",
     "text": [
      "1457 images of class 3 have been poisoned.\n",
      "Train set poisoned targeting class pituitary!\n"
     ]
    },
    {
     "name": "stderr",
     "output_type": "stream",
     "text": [
      "100%|██████████| 1311/1311 [00:03<00:00, 329.40it/s]\n"
     ]
    },
    {
     "name": "stdout",
     "output_type": "stream",
     "text": [
      "309 images have been poisoned.\n",
      "Test set poisoned with rate 0.3, excluding class pituitary!\n",
      "Training started.\n",
      "Epoch 1/5\n",
      "Training completed, loss: 0.7369\n",
      "Epoch 1/5, Validation Loss: 2.8934\n",
      "Training started.\n",
      "Epoch 2/5\n",
      "Training completed, loss: 0.4026\n",
      "Epoch 2/5, Validation Loss: 2.9501\n",
      "Training started.\n",
      "Epoch 3/5\n",
      "Training completed, loss: 0.3065\n",
      "Epoch 3/5, Validation Loss: 3.2986\n",
      "Training started.\n",
      "Epoch 4/5\n",
      "Training completed, loss: 0.2266\n",
      "Epoch 4/5, Validation Loss: 3.5009\n",
      "Training started.\n",
      "Epoch 5/5\n",
      "Training completed, loss: 0.1691\n",
      "Epoch 5/5, Validation Loss: 3.5814\n",
      "Testing started on test clean.\n",
      "Testing completed on test clean.\n",
      "              precision    recall  f1-score   support\n",
      "\n",
      "      glioma       0.72      0.79      0.75       300\n",
      "  meningioma       0.41      0.71      0.52       306\n",
      "     notumor       0.83      0.92      0.87       405\n",
      "   pituitary       1.00      0.01      0.02       300\n",
      "\n",
      "    accuracy                           0.63      1311\n",
      "   macro avg       0.74      0.61      0.54      1311\n",
      "weighted avg       0.75      0.63      0.57      1311\n",
      "\n",
      "Testing started on test poisoned.\n",
      "Testing completed on test poisoned.\n",
      "              precision    recall  f1-score   support\n",
      "\n",
      "      glioma       0.67      0.56      0.61       300\n",
      "  meningioma       0.34      0.49      0.40       306\n",
      "     notumor       0.83      0.79      0.81       405\n",
      "   pituitary       0.01      0.01      0.01       300\n",
      "\n",
      "    accuracy                           0.49      1311\n",
      "   macro avg       0.46      0.46      0.46      1311\n",
      "weighted avg       0.49      0.49      0.49      1311\n",
      "\n"
     ]
    }
   ],
   "execution_count": 8
  },
  {
   "metadata": {},
   "cell_type": "markdown",
   "source": "### RESNET PRETRAINED",
   "id": "4ecaab9a7c4a1c1f"
  },
  {
   "metadata": {
    "ExecuteTime": {
     "end_time": "2024-08-27T10:18:40.655047Z",
     "start_time": "2024-08-27T10:18:35.959030Z"
    }
   },
   "cell_type": "code",
   "source": [
    "mean = torch.tensor([0.485, 0.456, 0.406])\n",
    "std = torch.tensor([0.229, 0.224, 0.225])\n",
    "\n",
    "model_pre = models.resnet50(weights='IMAGENET1K_V1')\n",
    "model_pre.fc = nn.Linear(model_pre.fc.in_features, 4)\n",
    "model_pre = model.to(device)\n",
    "\n",
    "total_params = sum(p.numel() for p in model_pre.parameters())\n",
    "print(f\"Total number of parameters: {total_params/(10**6):.3f} M\")"
   ],
   "id": "5b1f15adbbd6135a",
   "outputs": [
    {
     "name": "stderr",
     "output_type": "stream",
     "text": [
      "Downloading: \"https://download.pytorch.org/models/resnet50-0676ba61.pth\" to /Users/alessandrofolloni/.cache/torch/hub/checkpoints/resnet50-0676ba61.pth\n",
      "100%|██████████| 97.8M/97.8M [00:03<00:00, 29.8MB/s]\n"
     ]
    },
    {
     "name": "stdout",
     "output_type": "stream",
     "text": [
      "Total number of parameters: 51.476 M\n"
     ]
    }
   ],
   "execution_count": 9
  },
  {
   "metadata": {
    "ExecuteTime": {
     "end_time": "2024-08-27T10:18:40.661117Z",
     "start_time": "2024-08-27T10:18:40.656062Z"
    }
   },
   "cell_type": "code",
   "source": [
    "train_loader = DataLoader(train_dataset, batch_size=batch_size, shuffle=True, num_workers=1)\n",
    "test_loader = DataLoader(test_dataset, batch_size=batch_size, shuffle=True, num_workers=1)"
   ],
   "id": "d2f32cce30d00d99",
   "outputs": [],
   "execution_count": 10
  },
  {
   "metadata": {
    "ExecuteTime": {
     "end_time": "2024-08-27T10:18:53.970958Z",
     "start_time": "2024-08-27T10:18:40.662018Z"
    }
   },
   "cell_type": "code",
   "source": [
    "all_labels_clean, all_preds_clean = utils_a.test(model_pre, device, test_loader, 'test clean')\n",
    "report_clean = classification_report(all_labels_clean, all_preds_clean, target_names=classes, output_dict=True, zero_division=0)\n",
    "\n",
    "all_labels_poisoned, all_preds_poisoned = utils_a.test(model_pre, device, poisoned_test_loader, 'test poisoned')\n",
    "report_poisoned = classification_report(all_labels_poisoned, all_preds_poisoned, target_names=classes, output_dict=True, zero_division=0)"
   ],
   "id": "98233fbe172291c8",
   "outputs": [
    {
     "name": "stdout",
     "output_type": "stream",
     "text": [
      "Testing started on test clean.\n",
      "Testing completed on test clean.\n",
      "Testing started on test poisoned.\n",
      "Testing completed on test poisoned.\n"
     ]
    }
   ],
   "execution_count": 11
  },
  {
   "metadata": {
    "ExecuteTime": {
     "end_time": "2024-08-27T11:51:51.985993Z",
     "start_time": "2024-08-27T10:18:53.974693Z"
    }
   },
   "cell_type": "code",
   "source": [
    "for target in target_classes:\n",
    "    # Avvelenamento del dataset di addestramento\n",
    "    poisoned_train_dataset = utils_a.targeted_poison_dataset(train_dataset, target_label=target)\n",
    "    poisoned_train_loader = DataLoader(poisoned_train_dataset, batch_size=8, shuffle=True)\n",
    "    print(f\"Train set poisoned targeting class {train_dataset.classes[target]}!\")\n",
    "\n",
    "    # Avvelenamento del dataset di test\n",
    "    poisoned_test_dataset = utils_a.random_poison_dataset(test_dataset, poison_rate=rate, exclude_labels=[target])\n",
    "    poisoned_test_loader = DataLoader(poisoned_test_dataset, batch_size=8, shuffle=True)\n",
    "    print(f\"Test set poisoned with rate {rate}, excluding class {train_dataset.classes[target]}!\")\n",
    "\n",
    "    # Definizione del modello e ottimizzazione\n",
    "    model = models.resnet50(weights='IMAGENET1K_V1')\n",
    "    model.fc = nn.Linear(model.fc.in_features, 4)\n",
    "    model = model.to(device)\n",
    "\n",
    "    # Blocca i layer di base e allena solo l'ultimo blocco e il fully connected\n",
    "    for param in model.parameters():\n",
    "        param.requires_grad = False\n",
    "    for param in model.layer4.parameters():\n",
    "        param.requires_grad = True\n",
    "    for param in model.fc.parameters():\n",
    "        param.requires_grad = True\n",
    "\n",
    "    optimizer = optim.Adam(filter(lambda p: p.requires_grad, model.parameters()), lr=0.00001, weight_decay=1e-5)\n",
    "\n",
    "    # Addestramento del modello\n",
    "    for epoch in range(num_epochs):\n",
    "        utils_a.train(poisoned_train_loader, model, optimizer, criterion, device, epoch, num_epochs)\n",
    "        val_loss = utils_a.validate(model, test_loader, criterion, device)\n",
    "        scheduler.step(val_loss)\n",
    "        print(f'Epoch {epoch + 1}/{num_epochs}, Validation Loss: {val_loss:.4f}')\n",
    "\n",
    "    # Test del modello sui dati puliti\n",
    "    all_labels_clean, all_preds_clean = utils_a.test(model, device, test_loader, 'test clean')\n",
    "    report_clean = classification_report(all_labels_clean, all_preds_clean, target_names=train_dataset.classes,\n",
    "                                         output_dict=True, zero_division=0)\n",
    "    print(classification_report(all_labels_clean, all_preds_clean, target_names=train_dataset.classes, zero_division=0))\n",
    "\n",
    "    # Test del modello sui dati avvelenati\n",
    "    all_labels_poisoned, all_preds_poisoned = utils_a.test(model, device, test_loader, 'test poisoned')\n",
    "    report_poisoned = classification_report(all_labels_poisoned, all_preds_poisoned,\n",
    "                                            target_names=train_dataset.classes, output_dict=True, zero_division=0)\n",
    "    print(classification_report(all_labels_poisoned, all_preds_poisoned, target_names=train_dataset.classes, zero_division=0))\n",
    "\n",
    "    # Raccolta dei risultati\n",
    "    results_resnet.append({\n",
    "        \"target_class\": train_dataset.classes[target],\n",
    "        \"clean_report\": report_clean,\n",
    "        \"poisoned_report\": report_poisoned,\n",
    "    })"
   ],
   "id": "a2ffd180d6035d66",
   "outputs": [
    {
     "name": "stderr",
     "output_type": "stream",
     "text": [
      "100%|██████████| 5712/5712 [01:12<00:00, 78.61it/s] \n"
     ]
    },
    {
     "name": "stdout",
     "output_type": "stream",
     "text": [
      "1321 images of class 0 have been poisoned.\n",
      "Train set poisoned targeting class glioma!\n"
     ]
    },
    {
     "name": "stderr",
     "output_type": "stream",
     "text": [
      "100%|██████████| 1311/1311 [00:03<00:00, 350.15it/s]\n"
     ]
    },
    {
     "name": "stdout",
     "output_type": "stream",
     "text": [
      "298 images have been poisoned.\n",
      "Test set poisoned with rate 0.3, excluding class glioma!\n",
      "Training started.\n",
      "Epoch 1/5\n",
      "Training completed, loss: 0.5809\n",
      "Epoch 1/5, Validation Loss: 0.4379\n",
      "Training started.\n",
      "Epoch 2/5\n",
      "Training completed, loss: 0.2475\n",
      "Epoch 2/5, Validation Loss: 0.5074\n",
      "Training started.\n",
      "Epoch 3/5\n",
      "Training completed, loss: 0.1597\n",
      "Epoch 3/5, Validation Loss: 0.6422\n",
      "Training started.\n",
      "Epoch 4/5\n",
      "Training completed, loss: 0.1071\n",
      "Epoch 4/5, Validation Loss: 0.5680\n",
      "Training started.\n",
      "Epoch 5/5\n",
      "Training completed, loss: 0.0596\n",
      "Epoch 5/5, Validation Loss: 0.5776\n",
      "Testing started on test clean.\n",
      "Testing completed on test clean.\n",
      "              precision    recall  f1-score   support\n",
      "\n",
      "      glioma       0.95      0.26      0.41       300\n",
      "  meningioma       0.54      0.91      0.67       306\n",
      "     notumor       0.94      0.98      0.96       405\n",
      "   pituitary       0.97      0.94      0.95       300\n",
      "\n",
      "    accuracy                           0.79      1311\n",
      "   macro avg       0.85      0.77      0.75      1311\n",
      "weighted avg       0.86      0.79      0.77      1311\n",
      "\n",
      "Testing started on test poisoned.\n",
      "Testing completed on test poisoned.\n",
      "              precision    recall  f1-score   support\n",
      "\n",
      "      glioma       0.95      0.26      0.41       300\n",
      "  meningioma       0.54      0.91      0.67       306\n",
      "     notumor       0.94      0.98      0.96       405\n",
      "   pituitary       0.97      0.94      0.95       300\n",
      "\n",
      "    accuracy                           0.79      1311\n",
      "   macro avg       0.85      0.77      0.75      1311\n",
      "weighted avg       0.86      0.79      0.77      1311\n",
      "\n"
     ]
    },
    {
     "name": "stderr",
     "output_type": "stream",
     "text": [
      "100%|██████████| 5712/5712 [01:24<00:00, 67.75it/s] \n"
     ]
    },
    {
     "name": "stdout",
     "output_type": "stream",
     "text": [
      "1339 images of class 1 have been poisoned.\n",
      "Train set poisoned targeting class meningioma!\n"
     ]
    },
    {
     "name": "stderr",
     "output_type": "stream",
     "text": [
      "100%|██████████| 1311/1311 [00:05<00:00, 255.77it/s]\n"
     ]
    },
    {
     "name": "stdout",
     "output_type": "stream",
     "text": [
      "304 images have been poisoned.\n",
      "Test set poisoned with rate 0.3, excluding class meningioma!\n",
      "Training started.\n",
      "Epoch 1/5\n",
      "Training completed, loss: 0.5144\n",
      "Epoch 1/5, Validation Loss: 0.6607\n",
      "Training started.\n",
      "Epoch 2/5\n",
      "Training completed, loss: 0.1766\n",
      "Epoch 2/5, Validation Loss: 0.6746\n",
      "Training started.\n",
      "Epoch 3/5\n",
      "Training completed, loss: 0.1110\n",
      "Epoch 3/5, Validation Loss: 0.7504\n",
      "Training started.\n",
      "Epoch 4/5\n",
      "Training completed, loss: 0.0775\n",
      "Epoch 4/5, Validation Loss: 0.7608\n",
      "Training started.\n",
      "Epoch 5/5\n",
      "Training completed, loss: 0.0515\n",
      "Epoch 5/5, Validation Loss: 0.8310\n",
      "Testing started on test clean.\n",
      "Testing completed on test clean.\n",
      "              precision    recall  f1-score   support\n",
      "\n",
      "      glioma       0.60      1.00      0.75       300\n",
      "  meningioma       0.50      0.01      0.01       306\n",
      "     notumor       0.82      0.98      0.89       405\n",
      "   pituitary       0.91      0.98      0.95       300\n",
      "\n",
      "    accuracy                           0.76      1311\n",
      "   macro avg       0.71      0.74      0.65      1311\n",
      "weighted avg       0.71      0.76      0.67      1311\n",
      "\n",
      "Testing started on test poisoned.\n",
      "Testing completed on test poisoned.\n",
      "              precision    recall  f1-score   support\n",
      "\n",
      "      glioma       0.60      1.00      0.75       300\n",
      "  meningioma       0.50      0.01      0.01       306\n",
      "     notumor       0.82      0.98      0.89       405\n",
      "   pituitary       0.91      0.98      0.95       300\n",
      "\n",
      "    accuracy                           0.76      1311\n",
      "   macro avg       0.71      0.74      0.65      1311\n",
      "weighted avg       0.71      0.76      0.67      1311\n",
      "\n"
     ]
    },
    {
     "name": "stderr",
     "output_type": "stream",
     "text": [
      "100%|██████████| 5712/5712 [01:20<00:00, 71.15it/s] \n"
     ]
    },
    {
     "name": "stdout",
     "output_type": "stream",
     "text": [
      "1595 images of class 2 have been poisoned.\n",
      "Train set poisoned targeting class notumor!\n"
     ]
    },
    {
     "name": "stderr",
     "output_type": "stream",
     "text": [
      "100%|██████████| 1311/1311 [00:04<00:00, 295.99it/s]\n"
     ]
    },
    {
     "name": "stdout",
     "output_type": "stream",
     "text": [
      "261 images have been poisoned.\n",
      "Test set poisoned with rate 0.3, excluding class notumor!\n",
      "Training started.\n",
      "Epoch 1/5\n",
      "Training completed, loss: 0.5838\n",
      "Epoch 1/5, Validation Loss: 0.5533\n",
      "Training started.\n",
      "Epoch 2/5\n",
      "Training completed, loss: 0.2799\n",
      "Epoch 2/5, Validation Loss: 0.4203\n",
      "Training started.\n",
      "Epoch 3/5\n",
      "Training completed, loss: 0.1937\n",
      "Epoch 3/5, Validation Loss: 0.4804\n",
      "Training started.\n",
      "Epoch 4/5\n",
      "Training completed, loss: 0.1394\n",
      "Epoch 4/5, Validation Loss: 0.4148\n",
      "Training started.\n",
      "Epoch 5/5\n",
      "Training completed, loss: 0.0901\n",
      "Epoch 5/5, Validation Loss: 0.5147\n",
      "Testing started on test clean.\n",
      "Testing completed on test clean.\n",
      "              precision    recall  f1-score   support\n",
      "\n",
      "      glioma       0.79      0.84      0.81       300\n",
      "  meningioma       0.60      0.96      0.74       306\n",
      "     notumor       1.00      0.54      0.70       405\n",
      "   pituitary       0.98      0.93      0.95       300\n",
      "\n",
      "    accuracy                           0.79      1311\n",
      "   macro avg       0.84      0.82      0.80      1311\n",
      "weighted avg       0.85      0.79      0.79      1311\n",
      "\n",
      "Testing started on test poisoned.\n",
      "Testing completed on test poisoned.\n",
      "              precision    recall  f1-score   support\n",
      "\n",
      "      glioma       0.79      0.84      0.81       300\n",
      "  meningioma       0.60      0.96      0.74       306\n",
      "     notumor       1.00      0.54      0.70       405\n",
      "   pituitary       0.98      0.93      0.95       300\n",
      "\n",
      "    accuracy                           0.79      1311\n",
      "   macro avg       0.84      0.82      0.80      1311\n",
      "weighted avg       0.85      0.79      0.79      1311\n",
      "\n"
     ]
    },
    {
     "name": "stderr",
     "output_type": "stream",
     "text": [
      "100%|██████████| 5712/5712 [01:14<00:00, 76.62it/s] \n"
     ]
    },
    {
     "name": "stdout",
     "output_type": "stream",
     "text": [
      "1457 images of class 3 have been poisoned.\n",
      "Train set poisoned targeting class pituitary!\n"
     ]
    },
    {
     "name": "stderr",
     "output_type": "stream",
     "text": [
      "100%|██████████| 1311/1311 [00:04<00:00, 284.51it/s]\n"
     ]
    },
    {
     "name": "stdout",
     "output_type": "stream",
     "text": [
      "299 images have been poisoned.\n",
      "Test set poisoned with rate 0.3, excluding class pituitary!\n",
      "Training started.\n",
      "Epoch 1/5\n",
      "Training completed, loss: 0.5821\n",
      "Epoch 1/5, Validation Loss: 0.4426\n",
      "Training started.\n",
      "Epoch 2/5\n",
      "Training completed, loss: 0.2603\n",
      "Epoch 2/5, Validation Loss: 0.3938\n",
      "Training started.\n",
      "Epoch 3/5\n",
      "Training completed, loss: 0.1653\n",
      "Epoch 3/5, Validation Loss: 0.3372\n",
      "Training started.\n",
      "Epoch 4/5\n",
      "Training completed, loss: 0.1152\n",
      "Epoch 4/5, Validation Loss: 0.3941\n",
      "Training started.\n",
      "Epoch 5/5\n",
      "Training completed, loss: 0.0859\n",
      "Epoch 5/5, Validation Loss: 0.3984\n",
      "Testing started on test clean.\n",
      "Testing completed on test clean.\n",
      "              precision    recall  f1-score   support\n",
      "\n",
      "      glioma       0.86      0.93      0.89       300\n",
      "  meningioma       0.64      0.90      0.74       306\n",
      "     notumor       0.94      0.97      0.96       405\n",
      "   pituitary       1.00      0.45      0.62       300\n",
      "\n",
      "    accuracy                           0.83      1311\n",
      "   macro avg       0.86      0.81      0.80      1311\n",
      "weighted avg       0.86      0.83      0.82      1311\n",
      "\n",
      "Testing started on test poisoned.\n",
      "Testing completed on test poisoned.\n",
      "              precision    recall  f1-score   support\n",
      "\n",
      "      glioma       0.86      0.93      0.89       300\n",
      "  meningioma       0.64      0.90      0.74       306\n",
      "     notumor       0.94      0.97      0.96       405\n",
      "   pituitary       1.00      0.45      0.62       300\n",
      "\n",
      "    accuracy                           0.83      1311\n",
      "   macro avg       0.86      0.81      0.80      1311\n",
      "weighted avg       0.86      0.83      0.82      1311\n",
      "\n"
     ]
    }
   ],
   "execution_count": 12
  },
  {
   "metadata": {
    "ExecuteTime": {
     "end_time": "2024-08-27T11:51:52.018012Z",
     "start_time": "2024-08-27T11:51:51.996361Z"
    }
   },
   "cell_type": "code",
   "source": [
    "# Funzione di visualizzazione dei risultati\n",
    "def plot_metrics(results, metric='f1-score'):\n",
    "    targets = [result['target_class'] for result in results]\n",
    "    clean_metrics = [result['clean_report']['weighted avg'][metric] for result in results]\n",
    "    poisoned_metrics = [result['poisoned_report']['weighted avg'][metric] for result in results]\n",
    "    plt.figure(figsize=(12, 6))\n",
    "    plt.plot(targets, clean_metrics, label='Clean', marker='o')\n",
    "    plt.plot(targets, poisoned_metrics, label='Poisoned', marker='x')\n",
    "    plt.xlabel('Target Class')\n",
    "    plt.ylabel(f'{metric.capitalize()} Score')\n",
    "    plt.title(f'Comparison of {metric.capitalize()} Scores')\n",
    "    plt.legend()\n",
    "    plt.grid(True)\n",
    "    plt.show()"
   ],
   "id": "a8a017e0ed9b1434",
   "outputs": [],
   "execution_count": 13
  },
  {
   "metadata": {
    "ExecuteTime": {
     "end_time": "2024-08-27T11:51:52.466166Z",
     "start_time": "2024-08-27T11:51:52.019366Z"
    }
   },
   "cell_type": "code",
   "source": "plot_metrics(results, metric='f1-score')",
   "id": "4f0b3a80887b589",
   "outputs": [
    {
     "data": {
      "text/plain": [
       "<Figure size 1200x600 with 1 Axes>"
      ],
      "image/png": "[encoded data removed]"
     },
     "metadata": {},
     "output_type": "display_data"
    }
   ],
   "execution_count": 14
  },
  {
   "metadata": {
    "ExecuteTime": {
     "end_time": "2024-08-27T11:51:52.634856Z",
     "start_time": "2024-08-27T11:51:52.467993Z"
    }
   },
   "cell_type": "code",
   "source": "plot_metrics(results_resnet, metric='f1-score')",
   "id": "f1fd0cf2f20a2b48",
   "outputs": [
    {
     "data": {
      "text/plain": [
       "<Figure size 1200x600 with 1 Axes>"
      ],
      "image/png": "[encoded data removed]"
     },
     "metadata": {},
     "output_type": "display_data"
    }
   ],
   "execution_count": 15
  },
  {
   "metadata": {
    "ExecuteTime": {
     "end_time": "2024-08-27T11:51:52.640569Z",
     "start_time": "2024-08-27T11:51:52.637125Z"
    }
   },
   "cell_type": "code",
   "source": "",
   "id": "ab672b0754f7ad20",
   "outputs": [],
   "execution_count": 15
  }
 ],
 "metadata": {
  "kernelspec": {
   "display_name": "Python 3",
   "language": "python",
   "name": "python3"
  },
  "language_info": {
   "codemirror_mode": {
    "name": "ipython",
    "version": 2
   },
   "file_extension": ".py",
   "mimetype": "text/x-python",
   "name": "python",
   "nbconvert_exporter": "python",
   "pygments_lexer": "ipython2",
   "version": "2.7.6"
  }
 },
 "nbformat": 4,
 "nbformat_minor": 5
}
