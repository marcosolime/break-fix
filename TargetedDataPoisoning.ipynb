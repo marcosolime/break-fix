{
 "cells": [
  {
   "cell_type": "code",
   "id": "initial_id",
   "metadata": {
    "collapsed": true
   },
   "source": [
    "import torch\n",
    "from torchvision import models, datasets, transforms\n",
    "from torch.utils.data import DataLoader\n",
    "import torch.nn as nn\n",
    "import torch.optim as optim\n",
    "import utils_a\n",
    "from sklearn.metrics import classification_report\n",
    "import matplotlib.pyplot as plt\n",
    "\n",
    "utils_a.set_seed(42)\n",
    "device = utils_a.set_device()"
   ],
   "outputs": [],
   "execution_count": null
  },
  {
   "metadata": {},
   "cell_type": "markdown",
   "source": "### PREPROCESSING",
   "id": "cf98411b1ac1c9b0"
  },
  {
   "metadata": {},
   "cell_type": "code",
   "source": "dataset_folder = \"mri_brain_tumor\"",
   "id": "3732f69aedd1378d",
   "outputs": [],
   "execution_count": null
  },
  {
   "metadata": {},
   "cell_type": "code",
   "source": [
    "#mean, std = utils_a.compute_mean_std(train_loader)\n",
    "mean, std = torch.tensor([0.1855]*3), torch.tensor([0.1813]*3) # precomputed, to save time\n",
    "\n",
    "print(f\"Mean: {mean}\")\n",
    "print(f\"Std: {std}\")"
   ],
   "id": "550ace7f638d6727",
   "outputs": [],
   "execution_count": null
  },
  {
   "metadata": {},
   "cell_type": "code",
   "source": [
    "train_transform = transforms.Compose([\n",
    "    transforms.RandomHorizontalFlip(p=0.5),              # Flip orizzontale\n",
    "    transforms.RandomVerticalFlip(p=0.5),                # Flip verticale\n",
    "    transforms.RandomRotation(degrees=15),               # Rotazione casuale di 15 gradi\n",
    "    transforms.ColorJitter(brightness=0.2, contrast=0.2, saturation=0.2, hue=0.1),  # Variazione casuale dei colori\n",
    "    transforms.RandomResizedCrop(size=224, scale=(0.8, 1.0)),  # Crop e ridimensionamento casuale\n",
    "    transforms.ToTensor(),                               # Converti in tensore\n",
    "    transforms.RandomErasing(p=0.5, scale=(0.02, 0.2), ratio=(0.3, 3.3)),  # Erasing casuale\n",
    "    transforms.Normalize(mean=mean, std=std)             # Normalizzazione\n",
    "])\n",
    "\n",
    "# Transformation for testing dataset without data augmentation\n",
    "test_transform = transforms.Compose([\n",
    "    transforms.Resize((224, 224)),         # Resize the image to 224x224\n",
    "    transforms.ToTensor(),                 # Convert the image to a tensor\n",
    "    transforms.Normalize(mean=mean, std=std)  # Normalize the image\n",
    "])\n",
    "\n",
    "# Apply the transformations to the datasets\n",
    "train_dataset = datasets.ImageFolder(root=f'{dataset_folder}/Training', transform=train_transform)\n",
    "test_dataset = datasets.ImageFolder(root=f'{dataset_folder}/Testing', transform=test_transform)\n",
    "\n",
    "train_loader = DataLoader(train_dataset, batch_size=8, shuffle=True, num_workers=1)\n",
    "test_loader = DataLoader(test_dataset, batch_size=8, shuffle=True, num_workers=1)"
   ],
   "id": "fc0326cf21ffab97",
   "outputs": [],
   "execution_count": null
  },
  {
   "metadata": {},
   "cell_type": "markdown",
   "source": "### PRETRAINED CNN IMPORT",
   "id": "58949be25778207a"
  },
  {
   "metadata": {},
   "cell_type": "code",
   "source": [
    "import torch.optim.lr_scheduler as lr_scheduler\n",
    "\n",
    "model = utils_a.CNN(num_classes=4).to(device)\n",
    "state_dict = torch.load('weights/cnn_10epochs.pth', map_location=torch.device('cpu'), weights_only=True)\n",
    "\n",
    "try:\n",
    "    # Carica lo stato del modello\n",
    "    model.load_state_dict(state_dict)\n",
    "    model.to(device)\n",
    "    print(\"Model loaded successfully.\")\n",
    "except RuntimeError as e:\n",
    "    print(f\"RuntimeError during model loading: {e}\")\n",
    "except Exception as e:\n",
    "    print(f\"Exception: {e}\")\n",
    "    \n",
    "total_params = sum(p.numel() for p in model.parameters())\n",
    "print(f\"Total number of parameters: {total_params/(10**6):.3f} M\")\n",
    "criterion = nn.CrossEntropyLoss()\n",
    "optimizer = optim.Adam(model.parameters(), lr=0.0001, weight_decay=1e-5)\n",
    "scheduler = lr_scheduler.ReduceLROnPlateau(optimizer, mode='min', factor=0.1, patience=5, verbose=True)"
   ],
   "id": "3d37260c6e780e3f",
   "execution_count": null,
   "outputs": []
  },
  {
   "metadata": {},
   "cell_type": "code",
   "source": [
    "classes = train_dataset.classes\n",
    "all_labels, all_preds = utils_a.test(model, device, test_loader, 'test set')\n",
    "print(classification_report(all_labels, all_preds, target_names=classes))"
   ],
   "id": "a1b84ed1f1ad8328",
   "outputs": [],
   "execution_count": null
  },
  {
   "metadata": {},
   "cell_type": "code",
   "source": "",
   "id": "f0e335ff6d77e2bc",
   "outputs": [],
   "execution_count": null
  },
  {
   "metadata": {},
   "cell_type": "markdown",
   "source": "### POISONING",
   "id": "84f387cfb8dc718e"
  },
  {
   "metadata": {},
   "cell_type": "code",
   "source": [
    "### SYSTEMATIC POISONING AND EVALUATION\n",
    "target_classes = [0, 1, 2, 3]\n",
    "num_epochs = 10\n",
    "results = []\n",
    "results_resnet = []\n",
    "batch_size = 16\n",
    "rate = 0.3\n",
    "\n",
    "train_loader = DataLoader(train_dataset, batch_size=batch_size, shuffle=True, num_workers=1)\n",
    "test_loader = DataLoader(test_dataset, batch_size=batch_size, shuffle=True, num_workers=1)"
   ],
   "id": "53e47a9a17680e79",
   "outputs": [],
   "execution_count": null
  },
  {
   "metadata": {},
   "cell_type": "code",
   "source": [
    "for target in target_classes:\n",
    "    # Avvelenamento del dataset di addestramento\n",
    "    poisoned_train_dataset = utils_a.targeted_poison_dataset(train_dataset, target_label=target)\n",
    "    poisoned_train_loader = DataLoader(poisoned_train_dataset, batch_size=batch_size, shuffle=True)\n",
    "    print(f\"Train set poisoned targeting class {train_dataset.classes[target]}!\")\n",
    "    \n",
    "    # Avvelenamento del dataset di test\n",
    "    poisoned_test_dataset = utils_a.random_poison_dataset(test_dataset, poison_rate=rate, exclude_labels=[target])\n",
    "    poisoned_test_loader = DataLoader(poisoned_test_dataset, batch_size=batch_size, shuffle=True)\n",
    "    print(f\"Test set poisoned with rate {rate}, excluding class {train_dataset.classes[target]}!\")\n",
    "\n",
    "    # Definizione del modello e dell'ottimizzatore\n",
    "    model = utils_a.CNN(num_classes=4).to(device)\n",
    "    optimizer = optim.Adam(model.parameters(), lr=0.0001)\n",
    "\n",
    "    # Addestramento del modello avvelenato\n",
    "    for epoch in range(num_epochs):\n",
    "        utils_a.train(poisoned_train_loader, model, optimizer, criterion, device, epoch, num_epochs)\n",
    "        val_loss = utils_a.validate(model, poisoned_test_loader, criterion, device)\n",
    "        scheduler.step(val_loss)\n",
    "        print(f'Epoch {epoch+1}/{num_epochs}, Validation Loss: {val_loss:.4f}')\n",
    "\n",
    "    # Test del modello sui dati puliti\n",
    "    all_labels_clean, all_preds_clean = utils_a.test(model, device, test_loader, 'test clean')\n",
    "    report_clean = classification_report(all_labels_clean, all_preds_clean, target_names=train_dataset.classes, output_dict=True, zero_division=0)\n",
    "\n",
    "    # Test del modello sui dati avvelenati\n",
    "    all_labels_poisoned, all_preds_poisoned = utils_a.test(model, device, poisoned_test_loader, 'test poisoned')\n",
    "    report_poisoned = classification_report(all_labels_poisoned, all_preds_poisoned, target_names=train_dataset.classes, output_dict=True, zero_division=0)\n",
    "\n",
    "    # Raccolta dei risultati\n",
    "    results.append({\n",
    "        \"target_class\": train_dataset.classes[target],\n",
    "        \"clean_report\": report_clean,\n",
    "        \"poisoned_report\": report_poisoned,\n",
    "    })"
   ],
   "id": "55c4c375fa3c7a1f",
   "outputs": [],
   "execution_count": null
  },
  {
   "metadata": {},
   "cell_type": "markdown",
   "source": "### RESNET PRETRAINED",
   "id": "4ecaab9a7c4a1c1f"
  },
  {
   "metadata": {},
   "cell_type": "code",
   "source": [
    "mean = torch.tensor([0.485, 0.456, 0.406])\n",
    "std = torch.tensor([0.229, 0.224, 0.225])\n",
    "\n",
    "model_pre = models.resnet50(weights='IMAGENET1K_V1')\n",
    "model_pre.fc = nn.Linear(model_pre.fc.in_features, 4)\n",
    "model_pre = model.to(device)\n",
    "\n",
    "total_params = sum(p.numel() for p in model.parameters())\n",
    "print(f\"Total number of parameters: {total_params/(10**6):.3f} M\")"
   ],
   "id": "5b1f15adbbd6135a",
   "outputs": [],
   "execution_count": null
  },
  {
   "metadata": {},
   "cell_type": "code",
   "source": [
    "train_loader = DataLoader(train_dataset, batch_size=batch_size, shuffle=True, num_workers=1)\n",
    "test_loader = DataLoader(test_dataset, batch_size=batch_size, shuffle=True, num_workers=1)"
   ],
   "id": "d2f32cce30d00d99",
   "outputs": [],
   "execution_count": null
  },
  {
   "metadata": {},
   "cell_type": "code",
   "source": [
    "all_labels_clean, all_preds_clean = utils_a.test(model_pre, device, test_loader, 'test clean')\n",
    "report_clean = classification_report(all_labels_clean, all_preds_clean, target_names=classes, output_dict=True, zero_division=0)\n",
    "\n",
    "all_labels_poisoned, all_preds_poisoned = utils_a.test(model_pre, device, poisoned_test_loader, 'test poisoned')\n",
    "report_poisoned = classification_report(all_labels_poisoned, all_preds_poisoned, target_names=classes, output_dict=True, zero_division=0)"
   ],
   "id": "98233fbe172291c8",
   "outputs": [],
   "execution_count": null
  },
  {
   "metadata": {},
   "cell_type": "code",
   "source": [
    "for target in target_classes:\n",
    "    # Avvelenamento del dataset di addestramento\n",
    "    poisoned_train_dataset = utils_a.targeted_poison_dataset(train_dataset, target_label=target)\n",
    "    poisoned_train_loader = DataLoader(poisoned_train_dataset, batch_size=8, shuffle=True)\n",
    "    print(f\"Train set poisoned targeting class {train_dataset.classes[target]}!\")\n",
    "\n",
    "    # Avvelenamento del dataset di test\n",
    "    poisoned_test_dataset = utils_a.random_poison_dataset(test_dataset, poison_rate=rate, exclude_labels=[target])\n",
    "    poisoned_test_loader = DataLoader(poisoned_test_dataset, batch_size=8, shuffle=True)\n",
    "    print(f\"Test set poisoned with rate {rate}, excluding class {train_dataset.classes[target]}!\")\n",
    "\n",
    "    # Definizione del modello e ottimizzazione\n",
    "    model = models.resnet50(weights='IMAGENET1K_V1')\n",
    "    model.fc = nn.Linear(model.fc.in_features, 4)\n",
    "    model = model.to(device)\n",
    "\n",
    "    # Blocca i layer di base e allena solo l'ultimo blocco e il fully connected\n",
    "    for param in model.parameters():\n",
    "        param.requires_grad = False\n",
    "    for param in model.layer4.parameters():\n",
    "        param.requires_grad = True\n",
    "    for param in model.fc.parameters():\n",
    "        param.requires_grad = True\n",
    "\n",
    "    optimizer = optim.Adam(filter(lambda p: p.requires_grad, model.parameters()), lr=0.00001, weight_decay=1e-5)\n",
    "\n",
    "    # Addestramento del modello\n",
    "    for epoch in range(num_epochs):\n",
    "        utils_a.train(poisoned_train_loader, model, optimizer, criterion, device, epoch, num_epochs)\n",
    "        val_loss = utils_a.validate(model, test_loader, criterion, device)\n",
    "        scheduler.step(val_loss)\n",
    "        print(f'Epoch {epoch + 1}/{num_epochs}, Validation Loss: {val_loss:.4f}')\n",
    "\n",
    "    # Test del modello sui dati puliti\n",
    "    all_labels_clean, all_preds_clean = utils_a.test(model, device, test_loader, 'test clean')\n",
    "    report_clean = classification_report(all_labels_clean, all_preds_clean, target_names=train_dataset.classes,\n",
    "                                         output_dict=True, zero_division=0)\n",
    "\n",
    "    # Test del modello sui dati avvelenati\n",
    "    all_labels_poisoned, all_preds_poisoned = utils_a.test(model, device, test_loader, 'test poisoned')\n",
    "    report_poisoned = classification_report(all_labels_poisoned, all_preds_poisoned,\n",
    "                                            target_names=train_dataset.classes, output_dict=True, zero_division=0)\n",
    "\n",
    "    # Raccolta dei risultati\n",
    "    results_resnet.append({\n",
    "        \"target_class\": train_dataset.classes[target],\n",
    "        \"clean_report\": report_clean,\n",
    "        \"poisoned_report\": report_poisoned,\n",
    "    })"
   ],
   "id": "a2ffd180d6035d66",
   "outputs": [],
   "execution_count": null
  },
  {
   "metadata": {},
   "cell_type": "code",
   "source": [
    "# Funzione di visualizzazione dei risultati\n",
    "def plot_metrics(results, metric='f1-score'):\n",
    "    targets = [result['target_class'] for result in results]\n",
    "    clean_metrics = [result['clean_report']['weighted avg'][metric] for result in results]\n",
    "    poisoned_metrics = [result['poisoned_report']['weighted avg'][metric] for result in results]\n",
    "    plt.figure(figsize=(12, 6))\n",
    "    plt.plot(targets, clean_metrics, label='Clean', marker='o')\n",
    "    plt.plot(targets, poisoned_metrics, label='Poisoned', marker='x')\n",
    "    plt.xlabel('Target Class')\n",
    "    plt.ylabel(f'{metric.capitalize()} Score')\n",
    "    plt.title(f'Comparison of {metric.capitalize()} Scores')\n",
    "    plt.legend()\n",
    "    plt.grid(True)\n",
    "    plt.show()"
   ],
   "id": "a8a017e0ed9b1434",
   "outputs": [],
   "execution_count": null
  },
  {
   "metadata": {},
   "cell_type": "code",
   "source": "plot_metrics(results, metric='f1-score')",
   "id": "4f0b3a80887b589",
   "outputs": [],
   "execution_count": null
  },
  {
   "metadata": {},
   "cell_type": "code",
   "source": "plot_metrics(results_resnet, metric='f1-score')",
   "id": "f1fd0cf2f20a2b48",
   "outputs": [],
   "execution_count": null
  },
  {
   "metadata": {},
   "cell_type": "code",
   "source": "",
   "id": "ab672b0754f7ad20",
   "outputs": [],
   "execution_count": null
  }
 ],
 "metadata": {
  "kernelspec": {
   "display_name": "Python 3",
   "language": "python",
   "name": "python3"
  },
  "language_info": {
   "codemirror_mode": {
    "name": "ipython",
    "version": 2
   },
   "file_extension": ".py",
   "mimetype": "text/x-python",
   "name": "python",
   "nbconvert_exporter": "python",
   "pygments_lexer": "ipython2",
   "version": "2.7.6"
  }
 },
 "nbformat": 4,
 "nbformat_minor": 5
}
